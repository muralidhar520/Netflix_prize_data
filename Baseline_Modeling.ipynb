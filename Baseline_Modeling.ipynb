{
 "cells": [
  {
   "cell_type": "markdown",
   "metadata": {},
   "source": [
    "    Arranging the data before applying the models"
   ]
  },
  {
   "cell_type": "code",
   "execution_count": 3,
   "metadata": {
    "collapsed": true
   },
   "outputs": [],
   "source": [
    "def Load_data():\n",
    "    df = pd.read_csv('Whole_dataset1.txt')\n",
    "    return df"
   ]
  },
  {
   "cell_type": "markdown",
   "metadata": {},
   "source": [
    "### Sorting the data time wise "
   ]
  },
  {
   "cell_type": "code",
   "execution_count": 4,
   "metadata": {
    "collapsed": true
   },
   "outputs": [],
   "source": [
    "def sort_by_time(df):\n",
    "    df = df.sort_values(by='Date')\n",
    "    return df"
   ]
  },
  {
   "cell_type": "markdown",
   "metadata": {},
   "source": [
    "### Train test split"
   ]
  },
  {
   "cell_type": "code",
   "execution_count": 5,
   "metadata": {
    "collapsed": true
   },
   "outputs": [],
   "source": [
    "def tr_ts_split(df):\n",
    "    l = int(df.shape[0]*0.7)\n",
    "    ts_df = df[l:]; df = df[:l]\n",
    "    return (df,ts_df)\n",
    "    del df"
   ]
  },
  {
   "cell_type": "markdown",
   "metadata": {},
   "source": [
    "### Joining tables"
   ]
  },
  {
   "cell_type": "code",
   "execution_count": 6,
   "metadata": {
    "collapsed": true
   },
   "outputs": [],
   "source": [
    "def join_all(tr_df, ts_df):\n",
    "    movie_df = pd.concat([pd.read_pickle('info_1.pkl'),\\\n",
    "                     pd.read_pickle('info_2.pkl'),\\\n",
    "                     pd.read_pickle('info_3.pkl')])\n",
    "\n",
    "    tr_df = tr_df.join(movie_df.set_index('MovieID'), on='MovieID')\n",
    "    ts_df = ts_df.join(movie_df.set_index('MovieID'), on='MovieID')\n",
    "    del movie_df\n",
    "\n",
    "    cust_df = pd.concat([pd.read_pickle('movie_info1.pkl'),\\\n",
    "                     pd.read_pickle('movie_info2.pkl'),\\\n",
    "                     pd.read_pickle('movie_info3.pkl'),\\\n",
    "                    pd.read_pickle('movie_info4.pkl'),\\\n",
    "                    pd.read_pickle('movie_info5.pkl')])\n",
    "\n",
    "    tr_df = tr_df.join(cust_df.set_index('CustomerID'), on='CustomerID')\n",
    "    ts_df = ts_df.join(cust_df.set_index('CustomerID'), on='CustomerID')\n",
    "    del cust_df\n",
    "    \n",
    "    about_movdf = pd.read_pickle('modified_movie_title_year.pkl')\n",
    "    tr_df = tr_df.join(about_movdf.set_index('MovieID'), on='MovieID')\n",
    "    ts_df = ts_df.join(about_movdf.set_index('MovieID'), on='MovieID')\n",
    "    del about_movdf\n",
    "    \n",
    "    return (tr_df, ts_df)"
   ]
  },
  {
   "cell_type": "code",
   "execution_count": 7,
   "metadata": {
    "collapsed": true
   },
   "outputs": [],
   "source": [
    "from sklearn.metrics import mean_squared_error,r2_score\n",
    "r2score,mse,model = [],[],[]"
   ]
  },
  {
   "cell_type": "markdown",
   "metadata": {},
   "source": [
    "# Baseline models"
   ]
  },
  {
   "cell_type": "markdown",
   "metadata": {},
   "source": [
    "### Linear Regression"
   ]
  },
  {
   "cell_type": "markdown",
   "metadata": {},
   "source": [
    "    Preparing the data for the model"
   ]
  },
  {
   "cell_type": "code",
   "execution_count": 8,
   "metadata": {
    "collapsed": true
   },
   "outputs": [],
   "source": [
    "import pandas as pd\n",
    "def make_data():\n",
    "    df = Load_data()\n",
    "    df = sort_by_time(df)\n",
    "    tr_df, ts_df = tr_ts_split(df)\n",
    "    del df\n",
    "    tr_df, ts_df = join_all(tr_df,ts_df)\n",
    "    return (tr_df, ts_df)\n",
    "\n",
    "tr_df, ts_df = make_data()"
   ]
  },
  {
   "cell_type": "code",
   "execution_count": 9,
   "metadata": {},
   "outputs": [
    {
     "data": {
      "text/plain": [
       "((16837634, 11), (7216130, 11))"
      ]
     },
     "execution_count": 9,
     "metadata": {},
     "output_type": "execute_result"
    }
   ],
   "source": [
    "tr_df.shape, ts_df.shape"
   ]
  },
  {
   "cell_type": "code",
   "execution_count": 10,
   "metadata": {
    "collapsed": true
   },
   "outputs": [],
   "source": [
    "todrop = set(tr_df.columns)-{'Score','Cust_mean','MeanRating'}"
   ]
  },
  {
   "cell_type": "code",
   "execution_count": 11,
   "metadata": {
    "collapsed": true
   },
   "outputs": [],
   "source": [
    "tr_df = tr_df.drop(axis=1, labels=todrop)\n",
    "ts_df = ts_df.drop(axis=1, labels=todrop)"
   ]
  },
  {
   "cell_type": "code",
   "execution_count": 12,
   "metadata": {},
   "outputs": [
    {
     "data": {
      "text/html": [
       "<div>\n",
       "<style>\n",
       "    .dataframe thead tr:only-child th {\n",
       "        text-align: right;\n",
       "    }\n",
       "\n",
       "    .dataframe thead th {\n",
       "        text-align: left;\n",
       "    }\n",
       "\n",
       "    .dataframe tbody tr th {\n",
       "        vertical-align: top;\n",
       "    }\n",
       "</style>\n",
       "<table border=\"1\" class=\"dataframe\">\n",
       "  <thead>\n",
       "    <tr style=\"text-align: right;\">\n",
       "      <th></th>\n",
       "      <th>Score</th>\n",
       "      <th>MeanRating</th>\n",
       "      <th>Cust_mean</th>\n",
       "    </tr>\n",
       "  </thead>\n",
       "  <tbody>\n",
       "    <tr>\n",
       "      <th>9056171</th>\n",
       "      <td>5</td>\n",
       "      <td>3.971317</td>\n",
       "      <td>3.364807</td>\n",
       "    </tr>\n",
       "    <tr>\n",
       "      <th>14892677</th>\n",
       "      <td>3</td>\n",
       "      <td>3.439929</td>\n",
       "      <td>3.364807</td>\n",
       "    </tr>\n",
       "    <tr>\n",
       "      <th>19585852</th>\n",
       "      <td>4</td>\n",
       "      <td>3.952726</td>\n",
       "      <td>3.364807</td>\n",
       "    </tr>\n",
       "  </tbody>\n",
       "</table>\n",
       "</div>"
      ],
      "text/plain": [
       "          Score  MeanRating  Cust_mean\n",
       "9056171       5    3.971317   3.364807\n",
       "14892677      3    3.439929   3.364807\n",
       "19585852      4    3.952726   3.364807"
      ]
     },
     "execution_count": 12,
     "metadata": {},
     "output_type": "execute_result"
    }
   ],
   "source": [
    "tr_df.head(3)"
   ]
  },
  {
   "cell_type": "markdown",
   "metadata": {},
   "source": [
    "    The most basic version with just 2 features"
   ]
  },
  {
   "cell_type": "code",
   "execution_count": 13,
   "metadata": {},
   "outputs": [
    {
     "data": {
      "text/plain": [
       "200"
      ]
     },
     "execution_count": 13,
     "metadata": {},
     "output_type": "execute_result"
    }
   ],
   "source": [
    "import gc; gc.collect()"
   ]
  },
  {
   "cell_type": "code",
   "execution_count": 14,
   "metadata": {
    "collapsed": true
   },
   "outputs": [],
   "source": [
    "from sklearn.linear_model import LinearRegression\n",
    "reg = LinearRegression(n_jobs=-1,normalize=True)\n",
    "reg.fit(tr_df.drop(axis=1,labels='Score'),tr_df.Score)\n",
    "del tr_df\n",
    "hypothesis = reg.predict(ts_df.drop(axis=1,labels='Score'))"
   ]
  },
  {
   "cell_type": "code",
   "execution_count": 15,
   "metadata": {},
   "outputs": [
    {
     "data": {
      "text/plain": [
       "0.86481094843432604"
      ]
     },
     "execution_count": 15,
     "metadata": {},
     "output_type": "execute_result"
    }
   ],
   "source": [
    "mean_squared_error(ts_df.Score,hypothesis)"
   ]
  },
  {
   "cell_type": "code",
   "execution_count": 16,
   "metadata": {},
   "outputs": [
    {
     "data": {
      "text/plain": [
       "0.26601405092785635"
      ]
     },
     "execution_count": 16,
     "metadata": {},
     "output_type": "execute_result"
    }
   ],
   "source": [
    "r2_score(ts_df.Score,hypothesis)"
   ]
  },
  {
   "cell_type": "code",
   "execution_count": 17,
   "metadata": {
    "collapsed": true
   },
   "outputs": [],
   "source": [
    "import math"
   ]
  },
  {
   "cell_type": "code",
   "execution_count": 18,
   "metadata": {
    "collapsed": true
   },
   "outputs": [],
   "source": [
    "mse.append(math.sqrt(mean_squared_error(ts_df.Score,hypothesis)))\n",
    "r2score.append(r2_score(ts_df.Score,hypothesis))\n",
    "model.append('Basic logistic regression')"
   ]
  },
  {
   "cell_type": "code",
   "execution_count": 19,
   "metadata": {
    "collapsed": true
   },
   "outputs": [],
   "source": [
    "del ts_df, hypothesis, reg"
   ]
  },
  {
   "cell_type": "markdown",
   "metadata": {},
   "source": [
    "    Added MovieID and CustomerID. Theoritically it shouldn't change any result"
   ]
  },
  {
   "cell_type": "code",
   "execution_count": 20,
   "metadata": {},
   "outputs": [
    {
     "data": {
      "text/plain": [
       "((16837634, 11), (7216130, 11))"
      ]
     },
     "execution_count": 20,
     "metadata": {},
     "output_type": "execute_result"
    }
   ],
   "source": [
    "tr_df, ts_df = make_data()\n",
    "\n",
    "tr_df.shape, ts_df.shape"
   ]
  },
  {
   "cell_type": "code",
   "execution_count": 21,
   "metadata": {
    "collapsed": true
   },
   "outputs": [],
   "source": [
    "todrop = set(tr_df.columns)-{'Score','Cust_mean','MeanRating','CustomerID','MovieID'}"
   ]
  },
  {
   "cell_type": "code",
   "execution_count": 22,
   "metadata": {
    "collapsed": true
   },
   "outputs": [],
   "source": [
    "tr_df = tr_df.drop(axis=1, labels=todrop)\n",
    "ts_df = ts_df.drop(axis=1, labels=todrop)"
   ]
  },
  {
   "cell_type": "code",
   "execution_count": 23,
   "metadata": {},
   "outputs": [
    {
     "data": {
      "text/html": [
       "<div>\n",
       "<style>\n",
       "    .dataframe thead tr:only-child th {\n",
       "        text-align: right;\n",
       "    }\n",
       "\n",
       "    .dataframe thead th {\n",
       "        text-align: left;\n",
       "    }\n",
       "\n",
       "    .dataframe tbody tr th {\n",
       "        vertical-align: top;\n",
       "    }\n",
       "</style>\n",
       "<table border=\"1\" class=\"dataframe\">\n",
       "  <thead>\n",
       "    <tr style=\"text-align: right;\">\n",
       "      <th></th>\n",
       "      <th>CustomerID</th>\n",
       "      <th>Score</th>\n",
       "      <th>MovieID</th>\n",
       "      <th>MeanRating</th>\n",
       "      <th>Cust_mean</th>\n",
       "    </tr>\n",
       "  </thead>\n",
       "  <tbody>\n",
       "    <tr>\n",
       "      <th>9056171</th>\n",
       "      <td>510180</td>\n",
       "      <td>5</td>\n",
       "      <td>1798</td>\n",
       "      <td>3.971317</td>\n",
       "      <td>3.364807</td>\n",
       "    </tr>\n",
       "    <tr>\n",
       "      <th>14892677</th>\n",
       "      <td>510180</td>\n",
       "      <td>3</td>\n",
       "      <td>2866</td>\n",
       "      <td>3.439929</td>\n",
       "      <td>3.364807</td>\n",
       "    </tr>\n",
       "    <tr>\n",
       "      <th>19585852</th>\n",
       "      <td>510180</td>\n",
       "      <td>4</td>\n",
       "      <td>3730</td>\n",
       "      <td>3.952726</td>\n",
       "      <td>3.364807</td>\n",
       "    </tr>\n",
       "  </tbody>\n",
       "</table>\n",
       "</div>"
      ],
      "text/plain": [
       "          CustomerID  Score  MovieID  MeanRating  Cust_mean\n",
       "9056171       510180      5     1798    3.971317   3.364807\n",
       "14892677      510180      3     2866    3.439929   3.364807\n",
       "19585852      510180      4     3730    3.952726   3.364807"
      ]
     },
     "execution_count": 23,
     "metadata": {},
     "output_type": "execute_result"
    }
   ],
   "source": [
    "tr_df.head(3)"
   ]
  },
  {
   "cell_type": "code",
   "execution_count": 24,
   "metadata": {},
   "outputs": [],
   "source": [
    "from sklearn.linear_model import LinearRegression\n",
    "reg = LinearRegression(n_jobs=-1,normalize=True)\n",
    "reg.fit(tr_df.drop(axis=1,labels='Score'),tr_df.Score)\n",
    "del tr_df\n",
    "hypothesis = reg.predict(ts_df.drop(axis=1,labels='Score'))"
   ]
  },
  {
   "cell_type": "code",
   "execution_count": null,
   "metadata": {
    "collapsed": true
   },
   "outputs": [],
   "source": []
  },
  {
   "cell_type": "code",
   "execution_count": 25,
   "metadata": {},
   "outputs": [
    {
     "data": {
      "text/plain": [
       "0.86480092941179598"
      ]
     },
     "execution_count": 25,
     "metadata": {},
     "output_type": "execute_result"
    }
   ],
   "source": [
    "mean_squared_error(ts_df.Score,hypothesis)"
   ]
  },
  {
   "cell_type": "code",
   "execution_count": 26,
   "metadata": {},
   "outputs": [
    {
     "data": {
      "text/plain": [
       "0.26602255431437538"
      ]
     },
     "execution_count": 26,
     "metadata": {},
     "output_type": "execute_result"
    }
   ],
   "source": [
    "r2_score(ts_df.Score,hypothesis)"
   ]
  },
  {
   "cell_type": "code",
   "execution_count": 27,
   "metadata": {
    "collapsed": true
   },
   "outputs": [],
   "source": [
    "mse.append(math.sqrt(mean_squared_error(ts_df.Score,hypothesis)))\n",
    "r2score.append(r2_score(ts_df.Score,hypothesis))\n",
    "model.append('Linear Regression with MovieID and CustomerID')"
   ]
  },
  {
   "cell_type": "code",
   "execution_count": 28,
   "metadata": {
    "collapsed": true
   },
   "outputs": [],
   "source": [
    "del ts_df, hypothesis, reg"
   ]
  },
  {
   "cell_type": "code",
   "execution_count": 29,
   "metadata": {},
   "outputs": [
    {
     "data": {
      "text/plain": [
       "334"
      ]
     },
     "execution_count": 29,
     "metadata": {},
     "output_type": "execute_result"
    }
   ],
   "source": [
    "gc.collect()"
   ]
  },
  {
   "cell_type": "markdown",
   "metadata": {},
   "source": [
    "    Adding features: NumberOfrating, freq_of_rating"
   ]
  },
  {
   "cell_type": "code",
   "execution_count": 30,
   "metadata": {},
   "outputs": [
    {
     "data": {
      "text/plain": [
       "((16837634, 11), (7216130, 11))"
      ]
     },
     "execution_count": 30,
     "metadata": {},
     "output_type": "execute_result"
    }
   ],
   "source": [
    "tr_df, ts_df = make_data()\n",
    "tr_df.shape, ts_df.shape"
   ]
  },
  {
   "cell_type": "code",
   "execution_count": 31,
   "metadata": {},
   "outputs": [
    {
     "data": {
      "text/plain": [
       "Index(['CustomerID', 'Score', 'Date', 'MovieID', 'NumberOfRating',\n",
       "       'MeanRating', 'StdDev', 'Cust_mean', 'cust_stddev', 'freq_of_rating',\n",
       "       'Year_of_release'],\n",
       "      dtype='object')"
      ]
     },
     "execution_count": 31,
     "metadata": {},
     "output_type": "execute_result"
    }
   ],
   "source": [
    "tr_df.columns"
   ]
  },
  {
   "cell_type": "code",
   "execution_count": 32,
   "metadata": {
    "collapsed": true
   },
   "outputs": [],
   "source": [
    "todrop = set(tr_df.columns)-{'Score','Cust_mean',\\\n",
    "        'MeanRating','CustomerID','MovieID','NumberOfRating','freq_of_rating'}"
   ]
  },
  {
   "cell_type": "code",
   "execution_count": 33,
   "metadata": {
    "collapsed": true
   },
   "outputs": [],
   "source": [
    "tr_df = tr_df.drop(axis=1, labels=todrop)\n",
    "ts_df = ts_df.drop(axis=1, labels=todrop)"
   ]
  },
  {
   "cell_type": "code",
   "execution_count": 34,
   "metadata": {},
   "outputs": [
    {
     "data": {
      "text/html": [
       "<div>\n",
       "<style>\n",
       "    .dataframe thead tr:only-child th {\n",
       "        text-align: right;\n",
       "    }\n",
       "\n",
       "    .dataframe thead th {\n",
       "        text-align: left;\n",
       "    }\n",
       "\n",
       "    .dataframe tbody tr th {\n",
       "        vertical-align: top;\n",
       "    }\n",
       "</style>\n",
       "<table border=\"1\" class=\"dataframe\">\n",
       "  <thead>\n",
       "    <tr style=\"text-align: right;\">\n",
       "      <th></th>\n",
       "      <th>CustomerID</th>\n",
       "      <th>Score</th>\n",
       "      <th>MovieID</th>\n",
       "      <th>NumberOfRating</th>\n",
       "      <th>MeanRating</th>\n",
       "      <th>Cust_mean</th>\n",
       "      <th>freq_of_rating</th>\n",
       "    </tr>\n",
       "  </thead>\n",
       "  <tbody>\n",
       "    <tr>\n",
       "      <th>9056171</th>\n",
       "      <td>510180</td>\n",
       "      <td>5</td>\n",
       "      <td>1798</td>\n",
       "      <td>113377</td>\n",
       "      <td>3.971317</td>\n",
       "      <td>3.364807</td>\n",
       "      <td>233</td>\n",
       "    </tr>\n",
       "    <tr>\n",
       "      <th>14892677</th>\n",
       "      <td>510180</td>\n",
       "      <td>3</td>\n",
       "      <td>2866</td>\n",
       "      <td>22415</td>\n",
       "      <td>3.439929</td>\n",
       "      <td>3.364807</td>\n",
       "      <td>233</td>\n",
       "    </tr>\n",
       "    <tr>\n",
       "      <th>19585852</th>\n",
       "      <td>510180</td>\n",
       "      <td>4</td>\n",
       "      <td>3730</td>\n",
       "      <td>40191</td>\n",
       "      <td>3.952726</td>\n",
       "      <td>3.364807</td>\n",
       "      <td>233</td>\n",
       "    </tr>\n",
       "  </tbody>\n",
       "</table>\n",
       "</div>"
      ],
      "text/plain": [
       "          CustomerID  Score  MovieID  NumberOfRating  MeanRating  Cust_mean  \\\n",
       "9056171       510180      5     1798          113377    3.971317   3.364807   \n",
       "14892677      510180      3     2866           22415    3.439929   3.364807   \n",
       "19585852      510180      4     3730           40191    3.952726   3.364807   \n",
       "\n",
       "          freq_of_rating  \n",
       "9056171              233  \n",
       "14892677             233  \n",
       "19585852             233  "
      ]
     },
     "execution_count": 34,
     "metadata": {},
     "output_type": "execute_result"
    }
   ],
   "source": [
    "tr_df.head(3)"
   ]
  },
  {
   "cell_type": "code",
   "execution_count": 35,
   "metadata": {},
   "outputs": [],
   "source": [
    "from sklearn.linear_model import LinearRegression\n",
    "reg = LinearRegression(n_jobs=-1,normalize=True)\n",
    "reg.fit(tr_df.drop(axis=1,labels='Score'),tr_df.Score)\n",
    "del tr_df\n",
    "hypothesis = reg.predict(ts_df.drop(axis=1,labels='Score'))"
   ]
  },
  {
   "cell_type": "code",
   "execution_count": 36,
   "metadata": {},
   "outputs": [
    {
     "data": {
      "text/plain": [
       "0.86279584799181686"
      ]
     },
     "execution_count": 36,
     "metadata": {},
     "output_type": "execute_result"
    }
   ],
   "source": [
    "mean_squared_error(ts_df.Score,hypothesis)"
   ]
  },
  {
   "cell_type": "code",
   "execution_count": 37,
   "metadata": {},
   "outputs": [
    {
     "data": {
      "text/plain": [
       "0.26772431536593788"
      ]
     },
     "execution_count": 37,
     "metadata": {},
     "output_type": "execute_result"
    }
   ],
   "source": [
    "r2_score(ts_df.Score,hypothesis)"
   ]
  },
  {
   "cell_type": "code",
   "execution_count": 38,
   "metadata": {
    "collapsed": true
   },
   "outputs": [],
   "source": [
    "mse.append(math.sqrt(mean_squared_error(ts_df.Score,hypothesis)))\n",
    "r2score.append(r2_score(ts_df.Score,hypothesis))\n",
    "model.append('Linear Regression: added Numberofrating and freq_of_rating')"
   ]
  },
  {
   "cell_type": "code",
   "execution_count": 39,
   "metadata": {
    "collapsed": true
   },
   "outputs": [],
   "source": [
    "del ts_df, hypothesis, reg"
   ]
  },
  {
   "cell_type": "code",
   "execution_count": 40,
   "metadata": {},
   "outputs": [
    {
     "data": {
      "text/plain": [
       "332"
      ]
     },
     "execution_count": 40,
     "metadata": {},
     "output_type": "execute_result"
    }
   ],
   "source": [
    "gc.collect()"
   ]
  },
  {
   "cell_type": "markdown",
   "metadata": {},
   "source": [
    "    All features except time related variables"
   ]
  },
  {
   "cell_type": "code",
   "execution_count": 41,
   "metadata": {},
   "outputs": [
    {
     "data": {
      "text/plain": [
       "((16837634, 11), (7216130, 11))"
      ]
     },
     "execution_count": 41,
     "metadata": {},
     "output_type": "execute_result"
    }
   ],
   "source": [
    "tr_df, ts_df = make_data()\n",
    "tr_df.shape, ts_df.shape"
   ]
  },
  {
   "cell_type": "code",
   "execution_count": 42,
   "metadata": {},
   "outputs": [
    {
     "data": {
      "text/plain": [
       "Index(['CustomerID', 'Score', 'Date', 'MovieID', 'NumberOfRating',\n",
       "       'MeanRating', 'StdDev', 'Cust_mean', 'cust_stddev', 'freq_of_rating',\n",
       "       'Year_of_release'],\n",
       "      dtype='object')"
      ]
     },
     "execution_count": 42,
     "metadata": {},
     "output_type": "execute_result"
    }
   ],
   "source": [
    "tr_df.columns"
   ]
  },
  {
   "cell_type": "code",
   "execution_count": 43,
   "metadata": {
    "collapsed": true
   },
   "outputs": [],
   "source": [
    "todrop = ['Date','Year_of_release']"
   ]
  },
  {
   "cell_type": "code",
   "execution_count": 44,
   "metadata": {
    "collapsed": true
   },
   "outputs": [],
   "source": [
    "tr_df = tr_df.drop(axis=1, labels=todrop)\n",
    "ts_df = ts_df.drop(axis=1, labels=todrop)"
   ]
  },
  {
   "cell_type": "code",
   "execution_count": 45,
   "metadata": {},
   "outputs": [
    {
     "data": {
      "text/html": [
       "<div>\n",
       "<style>\n",
       "    .dataframe thead tr:only-child th {\n",
       "        text-align: right;\n",
       "    }\n",
       "\n",
       "    .dataframe thead th {\n",
       "        text-align: left;\n",
       "    }\n",
       "\n",
       "    .dataframe tbody tr th {\n",
       "        vertical-align: top;\n",
       "    }\n",
       "</style>\n",
       "<table border=\"1\" class=\"dataframe\">\n",
       "  <thead>\n",
       "    <tr style=\"text-align: right;\">\n",
       "      <th></th>\n",
       "      <th>CustomerID</th>\n",
       "      <th>Score</th>\n",
       "      <th>MovieID</th>\n",
       "      <th>NumberOfRating</th>\n",
       "      <th>MeanRating</th>\n",
       "      <th>StdDev</th>\n",
       "      <th>Cust_mean</th>\n",
       "      <th>cust_stddev</th>\n",
       "      <th>freq_of_rating</th>\n",
       "    </tr>\n",
       "  </thead>\n",
       "  <tbody>\n",
       "    <tr>\n",
       "      <th>9056171</th>\n",
       "      <td>510180</td>\n",
       "      <td>5</td>\n",
       "      <td>1798</td>\n",
       "      <td>113377</td>\n",
       "      <td>3.971317</td>\n",
       "      <td>0.893782</td>\n",
       "      <td>3.364807</td>\n",
       "      <td>0.958341</td>\n",
       "      <td>233</td>\n",
       "    </tr>\n",
       "    <tr>\n",
       "      <th>14892677</th>\n",
       "      <td>510180</td>\n",
       "      <td>3</td>\n",
       "      <td>2866</td>\n",
       "      <td>22415</td>\n",
       "      <td>3.439929</td>\n",
       "      <td>1.099609</td>\n",
       "      <td>3.364807</td>\n",
       "      <td>0.958341</td>\n",
       "      <td>233</td>\n",
       "    </tr>\n",
       "    <tr>\n",
       "      <th>19585852</th>\n",
       "      <td>510180</td>\n",
       "      <td>4</td>\n",
       "      <td>3730</td>\n",
       "      <td>40191</td>\n",
       "      <td>3.952726</td>\n",
       "      <td>0.888977</td>\n",
       "      <td>3.364807</td>\n",
       "      <td>0.958341</td>\n",
       "      <td>233</td>\n",
       "    </tr>\n",
       "  </tbody>\n",
       "</table>\n",
       "</div>"
      ],
      "text/plain": [
       "          CustomerID  Score  MovieID  NumberOfRating  MeanRating    StdDev  \\\n",
       "9056171       510180      5     1798          113377    3.971317  0.893782   \n",
       "14892677      510180      3     2866           22415    3.439929  1.099609   \n",
       "19585852      510180      4     3730           40191    3.952726  0.888977   \n",
       "\n",
       "          Cust_mean  cust_stddev  freq_of_rating  \n",
       "9056171    3.364807     0.958341             233  \n",
       "14892677   3.364807     0.958341             233  \n",
       "19585852   3.364807     0.958341             233  "
      ]
     },
     "execution_count": 45,
     "metadata": {},
     "output_type": "execute_result"
    }
   ],
   "source": [
    "tr_df.head(3)"
   ]
  },
  {
   "cell_type": "code",
   "execution_count": 46,
   "metadata": {
    "collapsed": true
   },
   "outputs": [],
   "source": [
    "from sklearn.linear_model import LinearRegression\n",
    "reg = LinearRegression(n_jobs=-1,normalize=True)\n",
    "reg.fit(tr_df.drop(axis=1,labels='Score'),tr_df.Score)\n",
    "del tr_df\n",
    "hypothesis = reg.predict(ts_df.drop(axis=1,labels='Score'))"
   ]
  },
  {
   "cell_type": "code",
   "execution_count": 47,
   "metadata": {},
   "outputs": [
    {
     "data": {
      "text/plain": [
       "0.86270745204593635"
      ]
     },
     "execution_count": 47,
     "metadata": {},
     "output_type": "execute_result"
    }
   ],
   "source": [
    "mean_squared_error(ts_df.Score,hypothesis)"
   ]
  },
  {
   "cell_type": "code",
   "execution_count": 48,
   "metadata": {},
   "outputs": [
    {
     "data": {
      "text/plain": [
       "0.26779933914119036"
      ]
     },
     "execution_count": 48,
     "metadata": {},
     "output_type": "execute_result"
    }
   ],
   "source": [
    "r2_score(ts_df.Score,hypothesis)"
   ]
  },
  {
   "cell_type": "code",
   "execution_count": 49,
   "metadata": {
    "collapsed": true
   },
   "outputs": [],
   "source": [
    "mse.append(math.sqrt(mean_squared_error(ts_df.Score,hypothesis)))\n",
    "r2score.append(r2_score(ts_df.Score,hypothesis))\n",
    "model.append('Linear Regression: added everything except time dependant variables')"
   ]
  },
  {
   "cell_type": "code",
   "execution_count": 50,
   "metadata": {},
   "outputs": [
    {
     "data": {
      "text/plain": [
       "376"
      ]
     },
     "execution_count": 50,
     "metadata": {},
     "output_type": "execute_result"
    }
   ],
   "source": [
    "del ts_df, hypothesis, reg\n",
    "gc.collect()"
   ]
  },
  {
   "cell_type": "markdown",
   "metadata": {},
   "source": [
    "## Conclusion"
   ]
  },
  {
   "cell_type": "code",
   "execution_count": 55,
   "metadata": {},
   "outputs": [
    {
     "name": "stdout",
     "output_type": "stream",
     "text": [
      "Final Results: \n",
      "0----0.9299521215817114\n",
      "1----0.92994673471753\n",
      "2----0.9288680465985558\n",
      "3----0.9288204627622803\n",
      "\n",
      "\n",
      "0----Basic logistic regression\n",
      "1----Linear Regression with MovieID and CustomerID\n",
      "2----Linear Regression: added Numberofrating and freq_of_rating\n",
      "3----Linear Regression: added everything except time dependant variables\n"
     ]
    }
   ],
   "source": [
    "print ('Final Results: ')\n",
    "for i in range(len(mse)):\n",
    "    print ('{}----{}'.format(i,mse[i]))\n",
    "print('\\n')\n",
    "for i in range(len(model)):\n",
    "    print ('{}----{}'.format(i,model[i]))"
   ]
  }
 ],
 "metadata": {
  "kernelspec": {
   "display_name": "Python 3",
   "language": "python",
   "name": "python3"
  },
  "language_info": {
   "codemirror_mode": {
    "name": "ipython",
    "version": 3
   },
   "file_extension": ".py",
   "mimetype": "text/x-python",
   "name": "python",
   "nbconvert_exporter": "python",
   "pygments_lexer": "ipython3",
   "version": "3.6.1"
  }
 },
 "nbformat": 4,
 "nbformat_minor": 2
}
