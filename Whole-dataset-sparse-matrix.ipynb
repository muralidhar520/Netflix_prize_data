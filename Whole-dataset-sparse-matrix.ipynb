{
 "cells": [
  {
   "cell_type": "markdown",
   "metadata": {},
   "source": [
    "    Loading the Dataset"
   ]
  },
  {
   "cell_type": "code",
   "execution_count": 1,
   "metadata": {},
   "outputs": [
    {
     "data": {
      "text/plain": [
       "(100480507, 4)"
      ]
     },
     "execution_count": 1,
     "metadata": {},
     "output_type": "execute_result"
    }
   ],
   "source": [
    "import pandas as pd\n",
    "df = pd.concat([pd.read_csv('Whole_dataset1.txt'),\\\n",
    "                pd.read_csv('Whole_dataset2.txt')\\\n",
    ",pd.read_csv('Whole_dataset3.txt'),pd.read_csv('Whole_dataset4.txt')])\n",
    "import gc; gc.collect()\n",
    "df.shape"
   ]
  },
  {
   "cell_type": "markdown",
   "metadata": {},
   "source": [
    "### Mapping the data\n",
    "    Proper mapping must be done so that sparse matrix can be built"
   ]
  },
  {
   "cell_type": "code",
   "execution_count": 2,
   "metadata": {},
   "outputs": [
    {
     "data": {
      "text/plain": [
       "(0, 17769, 0, 480188)"
      ]
     },
     "execution_count": 2,
     "metadata": {},
     "output_type": "execute_result"
    }
   ],
   "source": [
    "import numpy as np\n",
    "df = df.sort_values(by='CustomerID')\n",
    "gc.collect()\n",
    "UID = np.array(df.CustomerID)\n",
    "count = 0; flag=UID[0]\n",
    "for i in range(UID.shape[0]):\n",
    "    if(flag==UID[i]):\n",
    "        UID[i]=count\n",
    "    else:\n",
    "        count += 1\n",
    "        flag=UID[i]\n",
    "        UID[i]=count\n",
    "df['CustomerID'] = UID; del UID\n",
    "df = df.sort_values(by='MovieID')\n",
    "MID = np.array(df.MovieID)\n",
    "count = 0; flag=MID[0]\n",
    "for i in range(MID.shape[0]):\n",
    "    if(flag==MID[i]):\n",
    "        MID[i]=count\n",
    "    else:\n",
    "        count += 1\n",
    "        flag=MID[i]\n",
    "        MID[i]=count\n",
    "df['MovieID'] = MID; del MID\n",
    "df.MovieID.min(), df.MovieID.max(), df.CustomerID.min(), df.CustomerID.max()"
   ]
  },
  {
   "cell_type": "markdown",
   "metadata": {},
   "source": [
    "### Converting Date to timestamp"
   ]
  },
  {
   "cell_type": "code",
   "execution_count": 3,
   "metadata": {},
   "outputs": [
    {
     "data": {
      "text/html": [
       "<div>\n",
       "<style>\n",
       "    .dataframe thead tr:only-child th {\n",
       "        text-align: right;\n",
       "    }\n",
       "\n",
       "    .dataframe thead th {\n",
       "        text-align: left;\n",
       "    }\n",
       "\n",
       "    .dataframe tbody tr th {\n",
       "        vertical-align: top;\n",
       "    }\n",
       "</style>\n",
       "<table border=\"1\" class=\"dataframe\">\n",
       "  <thead>\n",
       "    <tr style=\"text-align: right;\">\n",
       "      <th></th>\n",
       "      <th>CustomerID</th>\n",
       "      <th>Score</th>\n",
       "      <th>Date</th>\n",
       "      <th>MovieID</th>\n",
       "    </tr>\n",
       "  </thead>\n",
       "  <tbody>\n",
       "    <tr>\n",
       "      <th>351</th>\n",
       "      <td>283659</td>\n",
       "      <td>4</td>\n",
       "      <td>20040818.0</td>\n",
       "      <td>0</td>\n",
       "    </tr>\n",
       "    <tr>\n",
       "      <th>298</th>\n",
       "      <td>406494</td>\n",
       "      <td>5</td>\n",
       "      <td>20050829.0</td>\n",
       "      <td>0</td>\n",
       "    </tr>\n",
       "    <tr>\n",
       "      <th>410</th>\n",
       "      <td>258417</td>\n",
       "      <td>5</td>\n",
       "      <td>20050808.0</td>\n",
       "      <td>0</td>\n",
       "    </tr>\n",
       "  </tbody>\n",
       "</table>\n",
       "</div>"
      ],
      "text/plain": [
       "     CustomerID  Score        Date  MovieID\n",
       "351      283659      4  20040818.0        0\n",
       "298      406494      5  20050829.0        0\n",
       "410      258417      5  20050808.0        0"
      ]
     },
     "execution_count": 3,
     "metadata": {},
     "output_type": "execute_result"
    }
   ],
   "source": [
    "timestamp = np.array(df.Date)\n",
    "tmp_time = np.empty(timestamp.shape[0])\n",
    "for i in range(timestamp.shape[0]):\n",
    "    t = timestamp[i].split('-')\n",
    "    t = ''.join(t)\n",
    "    tmp_time[i] = int(t)\n",
    "del timestamp\n",
    "df['Date'] = tmp_time\n",
    "df.head(3)"
   ]
  },
  {
   "cell_type": "markdown",
   "metadata": {},
   "source": [
    "### Train Test split\n",
    "    Setting the test data as 0.000001 in the sparse matrix"
   ]
  },
  {
   "cell_type": "code",
   "execution_count": 4,
   "metadata": {},
   "outputs": [
    {
     "name": "stdout",
     "output_type": "stream",
     "text": [
      ".\n"
     ]
    },
    {
     "data": {
      "text/plain": [
       "339"
      ]
     },
     "execution_count": 4,
     "metadata": {},
     "output_type": "execute_result"
    }
   ],
   "source": [
    "import numpy as np\n",
    "df = df.sort_values(by='Date')\n",
    "print('.')\n",
    "UID = np.array(df.CustomerID)\n",
    "MID = np.array(df.MovieID)\n",
    "Score = np.array(df.Score)\n",
    "l = int(df.shape[0]*0.7)\n",
    "for i in range(l,df.shape[0]):\n",
    "    Score[i]=0.000001\n",
    "del df    \n",
    "gc.collect()"
   ]
  },
  {
   "cell_type": "markdown",
   "metadata": {},
   "source": [
    "### Creating scipy.CSR"
   ]
  },
  {
   "cell_type": "code",
   "execution_count": 5,
   "metadata": {},
   "outputs": [
    {
     "data": {
      "text/plain": [
       "<480189x17770 sparse matrix of type '<class 'numpy.int64'>'\n",
       "\twith 100480507 stored elements in Compressed Sparse Row format>"
      ]
     },
     "execution_count": 5,
     "metadata": {},
     "output_type": "execute_result"
    }
   ],
   "source": [
    "from scipy.sparse import csr_matrix\n",
    "SPM = csr_matrix((Score, (UID, MID)), shape=(480189,17770))\n",
    "SPM"
   ]
  },
  {
   "cell_type": "code",
   "execution_count": 6,
   "metadata": {
    "collapsed": true
   },
   "outputs": [],
   "source": [
    "import pickle\n",
    "with open('Whole-data-sparse-matrix.pkl','wb') as fp:\n",
    "    pickle.dump(SPM,fp)\n",
    "fp.close(); del SPM"
   ]
  }
 ],
 "metadata": {
  "kernelspec": {
   "display_name": "Python 3",
   "language": "python",
   "name": "python3"
  },
  "language_info": {
   "codemirror_mode": {
    "name": "ipython",
    "version": 3
   },
   "file_extension": ".py",
   "mimetype": "text/x-python",
   "name": "python",
   "nbconvert_exporter": "python",
   "pygments_lexer": "ipython3",
   "version": "3.6.1"
  }
 },
 "nbformat": 4,
 "nbformat_minor": 2
}
