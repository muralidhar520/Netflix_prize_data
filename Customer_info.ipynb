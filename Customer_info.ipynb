{
 "cells": [
  {
   "cell_type": "code",
   "execution_count": 1,
   "metadata": {
    "collapsed": true
   },
   "outputs": [],
   "source": [
    "import pandas as pd"
   ]
  },
  {
   "cell_type": "code",
   "execution_count": 2,
   "metadata": {
    "collapsed": true
   },
   "outputs": [],
   "source": [
    "df = pd.read_csv('Whole_dataset1.txt')"
   ]
  },
  {
   "cell_type": "code",
   "execution_count": 3,
   "metadata": {},
   "outputs": [
    {
     "data": {
      "text/html": [
       "<div>\n",
       "<style>\n",
       "    .dataframe thead tr:only-child th {\n",
       "        text-align: right;\n",
       "    }\n",
       "\n",
       "    .dataframe thead th {\n",
       "        text-align: left;\n",
       "    }\n",
       "\n",
       "    .dataframe tbody tr th {\n",
       "        vertical-align: top;\n",
       "    }\n",
       "</style>\n",
       "<table border=\"1\" class=\"dataframe\">\n",
       "  <thead>\n",
       "    <tr style=\"text-align: right;\">\n",
       "      <th></th>\n",
       "      <th>CustomerID</th>\n",
       "      <th>Score</th>\n",
       "      <th>Date</th>\n",
       "      <th>MovieID</th>\n",
       "    </tr>\n",
       "  </thead>\n",
       "  <tbody>\n",
       "    <tr>\n",
       "      <th>23306193</th>\n",
       "      <td>397126</td>\n",
       "      <td>4</td>\n",
       "      <td>2004-10-07</td>\n",
       "      <td>4364</td>\n",
       "    </tr>\n",
       "    <tr>\n",
       "      <th>3493185</th>\n",
       "      <td>996871</td>\n",
       "      <td>3</td>\n",
       "      <td>2005-08-25</td>\n",
       "      <td>662</td>\n",
       "    </tr>\n",
       "    <tr>\n",
       "      <th>1022227</th>\n",
       "      <td>2325522</td>\n",
       "      <td>4</td>\n",
       "      <td>2004-12-29</td>\n",
       "      <td>241</td>\n",
       "    </tr>\n",
       "    <tr>\n",
       "      <th>12405310</th>\n",
       "      <td>35017</td>\n",
       "      <td>3</td>\n",
       "      <td>2005-06-06</td>\n",
       "      <td>2389</td>\n",
       "    </tr>\n",
       "    <tr>\n",
       "      <th>19950149</th>\n",
       "      <td>1384810</td>\n",
       "      <td>3</td>\n",
       "      <td>2004-10-29</td>\n",
       "      <td>3817</td>\n",
       "    </tr>\n",
       "  </tbody>\n",
       "</table>\n",
       "</div>"
      ],
      "text/plain": [
       "          CustomerID  Score        Date  MovieID\n",
       "23306193      397126      4  2004-10-07     4364\n",
       "3493185       996871      3  2005-08-25      662\n",
       "1022227      2325522      4  2004-12-29      241\n",
       "12405310       35017      3  2005-06-06     2389\n",
       "19950149     1384810      3  2004-10-29     3817"
      ]
     },
     "execution_count": 3,
     "metadata": {},
     "output_type": "execute_result"
    }
   ],
   "source": [
    "df.sample(n=5)"
   ]
  },
  {
   "cell_type": "markdown",
   "metadata": {},
   "source": [
    "Calculating the mean score, std deviation of score and number of score given by each of the customer(for a part) and storing them in a pickle file"
   ]
  },
  {
   "cell_type": "code",
   "execution_count": 9,
   "metadata": {},
   "outputs": [
    {
     "data": {
      "text/plain": [
       "<function print>"
      ]
     },
     "execution_count": 9,
     "metadata": {},
     "output_type": "execute_result"
    }
   ],
   "source": [
    "'''\n",
    "import numpy as np\n",
    "_1, _2, _3, = [], [], []; \n",
    "custid = list(set(df.CustomerID))\n",
    "custid.sort()\n",
    "for i in custid[400000:]:\n",
    "    user_score = df[df.CustomerID == i].Score.tolist()\n",
    "    _1.append(np.mean(user_score))\n",
    "    _2.append(np.std(user_score))\n",
    "    _3.append(len(user_score))\n",
    "'''\n",
    "print "
   ]
  },
  {
   "cell_type": "code",
   "execution_count": 8,
   "metadata": {},
   "outputs": [],
   "source": [
    "import pickle\n",
    "movie_info = pd.DataFrame({'CustomerID':custid[400000:],'Cust_mean':_1,'cust_stddev':_2,'freq_of_rating':_3})\n",
    "with open('movie_info5.pkl','wb') as fp:\n",
    "    pickle.dump(movie_info,fp)\n",
    "\n",
    "fp.close()"
   ]
  },
  {
   "cell_type": "code",
   "execution_count": 10,
   "metadata": {},
   "outputs": [
    {
     "data": {
      "text/html": [
       "<div>\n",
       "<style>\n",
       "    .dataframe thead tr:only-child th {\n",
       "        text-align: right;\n",
       "    }\n",
       "\n",
       "    .dataframe thead th {\n",
       "        text-align: left;\n",
       "    }\n",
       "\n",
       "    .dataframe tbody tr th {\n",
       "        vertical-align: top;\n",
       "    }\n",
       "</style>\n",
       "<table border=\"1\" class=\"dataframe\">\n",
       "  <thead>\n",
       "    <tr style=\"text-align: right;\">\n",
       "      <th></th>\n",
       "      <th>Cust_mean</th>\n",
       "      <th>CustomerID</th>\n",
       "      <th>cust_stddev</th>\n",
       "      <th>freq_of_rating</th>\n",
       "    </tr>\n",
       "  </thead>\n",
       "  <tbody>\n",
       "    <tr>\n",
       "      <th>7832</th>\n",
       "      <td>3.895349</td>\n",
       "      <td>2295555</td>\n",
       "      <td>0.699320</td>\n",
       "      <td>86</td>\n",
       "    </tr>\n",
       "    <tr>\n",
       "      <th>28619</th>\n",
       "      <td>3.500000</td>\n",
       "      <td>2412398</td>\n",
       "      <td>0.500000</td>\n",
       "      <td>2</td>\n",
       "    </tr>\n",
       "    <tr>\n",
       "      <th>36583</th>\n",
       "      <td>5.000000</td>\n",
       "      <td>2457157</td>\n",
       "      <td>0.000000</td>\n",
       "      <td>1</td>\n",
       "    </tr>\n",
       "    <tr>\n",
       "      <th>52857</th>\n",
       "      <td>3.333333</td>\n",
       "      <td>2548508</td>\n",
       "      <td>1.247219</td>\n",
       "      <td>9</td>\n",
       "    </tr>\n",
       "    <tr>\n",
       "      <th>12710</th>\n",
       "      <td>3.888889</td>\n",
       "      <td>2323200</td>\n",
       "      <td>0.737028</td>\n",
       "      <td>9</td>\n",
       "    </tr>\n",
       "  </tbody>\n",
       "</table>\n",
       "</div>"
      ],
      "text/plain": [
       "       Cust_mean  CustomerID  cust_stddev  freq_of_rating\n",
       "7832    3.895349     2295555     0.699320              86\n",
       "28619   3.500000     2412398     0.500000               2\n",
       "36583   5.000000     2457157     0.000000               1\n",
       "52857   3.333333     2548508     1.247219               9\n",
       "12710   3.888889     2323200     0.737028               9"
      ]
     },
     "execution_count": 10,
     "metadata": {},
     "output_type": "execute_result"
    }
   ],
   "source": [
    "movie_info.sample(n=5)"
   ]
  }
 ],
 "metadata": {
  "kernelspec": {
   "display_name": "Python 3",
   "language": "python",
   "name": "python3"
  },
  "language_info": {
   "codemirror_mode": {
    "name": "ipython",
    "version": 3
   },
   "file_extension": ".py",
   "mimetype": "text/x-python",
   "name": "python",
   "nbconvert_exporter": "python",
   "pygments_lexer": "ipython3",
   "version": "3.6.1"
  }
 },
 "nbformat": 4,
 "nbformat_minor": 2
}
