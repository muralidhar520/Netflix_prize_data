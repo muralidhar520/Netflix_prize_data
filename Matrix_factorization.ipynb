{
 "cells": [
  {
   "cell_type": "markdown",
   "metadata": {},
   "source": [
    "## Preparing train data\n",
    "    To check for overfitting"
   ]
  },
  {
   "cell_type": "code",
   "execution_count": 1,
   "metadata": {
    "collapsed": true
   },
   "outputs": [],
   "source": [
    "# Loading the test data and making it into a dictionary for faster access\n",
    "import pandas as pd\n",
    "df = pd.read_csv('Whole_dataset1.txt')\n",
    "df = df.sort_values(by='CustomerID')\n",
    "cust_id = df.CustomerID.tolist()\n",
    "flag = cust_id[0]; count=1\n",
    "for i in range(len(cust_id)):\n",
    "    if(flag==cust_id[i]):\n",
    "        cust_id[i]=count\n",
    "    else:\n",
    "        flag = cust_id[i]\n",
    "        count+=1\n",
    "        cust_id[i]=count\n",
    "df['CustomerID'] = cust_id\n",
    "df = df.sort_values(by='Date')\n",
    "l = int(0.7*df.shape[0])\n",
    "df = df[:l]\n",
    "mov_id = df.MovieID.tolist()\n",
    "cust_id = df.CustomerID.tolist()\n",
    "score = df.Score.tolist()\n",
    "tr_data = {}\n",
    "for i in range(len(score)):\n",
    "    tr_data[(cust_id[i],mov_id[i])] = score[i]\n",
    "del df,score,cust_id,mov_id"
   ]
  },
  {
   "cell_type": "markdown",
   "metadata": {},
   "source": [
    "## Preparing the test data"
   ]
  },
  {
   "cell_type": "code",
   "execution_count": 2,
   "metadata": {
    "collapsed": true
   },
   "outputs": [],
   "source": [
    "# Loading the test data and making it into a dictionary for faster access\n",
    "import pandas as pd\n",
    "df = pd.read_csv('Whole_dataset1.txt')\n",
    "df = df.sort_values(by='CustomerID')\n",
    "cust_id = df.CustomerID.tolist()\n",
    "flag = cust_id[0]; count=1\n",
    "for i in range(len(cust_id)):\n",
    "    if(flag==cust_id[i]):\n",
    "        cust_id[i]=count\n",
    "    else:\n",
    "        flag = cust_id[i]\n",
    "        count+=1\n",
    "        cust_id[i]=count\n",
    "df['CustomerID'] = cust_id\n",
    "df = df.sort_values(by='Date')\n",
    "l = int(0.7*df.shape[0])\n",
    "df = df[l:]\n",
    "mov_id = df.MovieID.tolist()\n",
    "cust_id = df.CustomerID.tolist()\n",
    "score = df.Score.tolist()\n",
    "ts_data = {}\n",
    "for i in range(len(score)):\n",
    "    ts_data[(cust_id[i],mov_id[i])] = score[i]\n",
    "del df,score,cust_id,mov_id"
   ]
  },
  {
   "cell_type": "markdown",
   "metadata": {},
   "source": [
    "## Loading the matrix"
   ]
  },
  {
   "cell_type": "code",
   "execution_count": 3,
   "metadata": {},
   "outputs": [
    {
     "data": {
      "text/plain": [
       "<470759x4500 sparse matrix of type '<class 'numpy.float64'>'\n",
       "\twith 24053764 stored elements in Compressed Sparse Row format>"
      ]
     },
     "execution_count": 3,
     "metadata": {},
     "output_type": "execute_result"
    }
   ],
   "source": [
    "import pickle\n",
    "with open('sparse_matrix.txt','rb') as fp:\n",
    "    sp_matrix = pickle.load(fp)\n",
    "fp.close()\n",
    "sp_matrix"
   ]
  },
  {
   "cell_type": "markdown",
   "metadata": {},
   "source": [
    "## NMF decomposition"
   ]
  },
  {
   "cell_type": "code",
   "execution_count": 4,
   "metadata": {},
   "outputs": [
    {
     "data": {
      "text/plain": [
       "((470759, 10), (10, 4500))"
      ]
     },
     "execution_count": 4,
     "metadata": {},
     "output_type": "execute_result"
    }
   ],
   "source": [
    "from sklearn.decomposition import NMF\n",
    "model = NMF(n_components=10,init='random')\n",
    "U = model.fit_transform(sp_matrix)\n",
    "M = model.components_\n",
    "U.shape, M.shape"
   ]
  },
  {
   "cell_type": "code",
   "execution_count": 5,
   "metadata": {
    "collapsed": true
   },
   "outputs": [],
   "source": [
    "with open('Matrix10_UM.pkl','wb') as fm:\n",
    "    pickle.dump((U,M),fm)\n",
    "fm.close()"
   ]
  },
  {
   "cell_type": "markdown",
   "metadata": {},
   "source": [
    "## RMSE on test data"
   ]
  },
  {
   "cell_type": "code",
   "execution_count": 6,
   "metadata": {},
   "outputs": [
    {
     "data": {
      "text/plain": [
       "3.6462575791188945"
      ]
     },
     "execution_count": 6,
     "metadata": {},
     "output_type": "execute_result"
    }
   ],
   "source": [
    "import math\n",
    "import numpy as np\n",
    "e = 0\n",
    "for i in ts_data.keys():\n",
    "    row,col = i\n",
    "    R = ts_data[(row,col)]\n",
    "    R_h = np.dot(U[row,:],M[:,col])\n",
    "    #print (R,R_h)\n",
    "    e = e + math.pow((R-R_h),2)\n",
    "math.sqrt(e/len(ts_data.keys()))"
   ]
  },
  {
   "cell_type": "markdown",
   "metadata": {},
   "source": [
    "## RMSE on train data"
   ]
  },
  {
   "cell_type": "code",
   "execution_count": 7,
   "metadata": {},
   "outputs": [
    {
     "data": {
      "text/plain": [
       "4.07598747233226"
      ]
     },
     "execution_count": 7,
     "metadata": {},
     "output_type": "execute_result"
    }
   ],
   "source": [
    "import math\n",
    "import numpy as np\n",
    "e = 0\n",
    "for i in tr_data.keys():\n",
    "    row,col = i\n",
    "    R = tr_data[(row,col)]\n",
    "    R_h = np.dot(U[row,:],M[:,col])\n",
    "    #print (R,R_h)\n",
    "    e = e + math.pow((R-R_h),2)\n",
    "math.sqrt(e/len(ts_data.keys()))"
   ]
  },
  {
   "cell_type": "markdown",
   "metadata": {},
   "source": [
    "## Observations(on test data):\n",
    "    n=10, rmse ~ 3.645\n",
    "    n=20, rmse ~ 3.653\n",
    "    n=30, rmse ~ 3.66\n",
    "    n=50, rmse ~ 3.68\n",
    "    n=2,  rmse ~ 3.66\n",
    "Because of these following observations, n_components was kept at 10"
   ]
  }
 ],
 "metadata": {
  "kernelspec": {
   "display_name": "Python 3",
   "language": "python",
   "name": "python3"
  },
  "language_info": {
   "codemirror_mode": {
    "name": "ipython",
    "version": 3
   },
   "file_extension": ".py",
   "mimetype": "text/x-python",
   "name": "python",
   "nbconvert_exporter": "python",
   "pygments_lexer": "ipython3",
   "version": "3.6.1"
  }
 },
 "nbformat": 4,
 "nbformat_minor": 2
}
