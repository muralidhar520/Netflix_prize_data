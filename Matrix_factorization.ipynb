{
 "cells": [
  {
   "cell_type": "code",
   "execution_count": 1,
   "metadata": {},
   "outputs": [
    {
     "data": {
      "text/plain": [
       "(24053764, 4)"
      ]
     },
     "execution_count": 1,
     "metadata": {},
     "output_type": "execute_result"
    }
   ],
   "source": [
    "import pickle\n",
    "with open('Clean-dataset-1.pkl','rb') as fp:\n",
    "    df = pickle.load(fp)\n",
    "df.shape"
   ]
  },
  {
   "cell_type": "code",
   "execution_count": 2,
   "metadata": {
    "collapsed": true
   },
   "outputs": [],
   "source": [
    "df = df.sort_values(by='Date')\n",
    "\n",
    "df = df.drop(axis=1,labels=['Date'])"
   ]
  },
  {
   "cell_type": "code",
   "execution_count": 3,
   "metadata": {
    "collapsed": true
   },
   "outputs": [],
   "source": [
    "import scipy as np\n",
    "CID = np.array(df.CustomerID)\n",
    "MID = np.array(df.MovieID)\n",
    "Score = np.array(df.Score)\n",
    "l = int(df.shape[0]*0.7)"
   ]
  },
  {
   "cell_type": "code",
   "execution_count": 4,
   "metadata": {
    "collapsed": true
   },
   "outputs": [],
   "source": [
    "tr_data = {}\n",
    "for i in range(l):\n",
    "    r = CID[i]; c = MID[i]\n",
    "    tr_data[(r,c)] = Score[i]"
   ]
  },
  {
   "cell_type": "code",
   "execution_count": 5,
   "metadata": {
    "collapsed": true
   },
   "outputs": [],
   "source": [
    "ts_data = {}\n",
    "for i in range(l,CID.shape[0]):\n",
    "    r = CID[i]; c = MID[i]\n",
    "    ts_data[(r,c)] = Score[i]"
   ]
  },
  {
   "cell_type": "code",
   "execution_count": 6,
   "metadata": {
    "collapsed": true
   },
   "outputs": [],
   "source": [
    "row = CID.max()+1\n",
    "col = MID.max()+1\n",
    "del df,MID,CID,Score"
   ]
  },
  {
   "cell_type": "code",
   "execution_count": 7,
   "metadata": {},
   "outputs": [
    {
     "data": {
      "text/plain": [
       "7"
      ]
     },
     "execution_count": 7,
     "metadata": {},
     "output_type": "execute_result"
    }
   ],
   "source": [
    "import gc; gc.collect()"
   ]
  },
  {
   "cell_type": "code",
   "execution_count": null,
   "metadata": {
    "collapsed": true
   },
   "outputs": [],
   "source": []
  },
  {
   "cell_type": "code",
   "execution_count": 11,
   "metadata": {},
   "outputs": [],
   "source": [
    "import numpy\n",
    "def matrix_factorization(R, P, Q, K, steps=5000, alpha=0.0002, beta=0.02):\n",
    "    Q = Q.T\n",
    "    for step in range(steps):\n",
    "        count = 0\n",
    "        for tup in R.keys():\n",
    "            i,j = tup\n",
    "            eij = R[(i,j)] - numpy.dot(P[i,:],Q[:,j])\n",
    "            for k in range(K):\n",
    "                tmp_1 = P[i][k] + alpha * (2 * eij * Q[k][j] - beta * P[i][k])\n",
    "                tmp_2 = Q[k][j] + alpha * (2 * eij * P[i][k] - beta * Q[k][j])\n",
    "                P[i][k] = tmp_1; Q[k][j] = tmp_2\n",
    "        #eR = numpy.dot(P,Q)\n",
    "        e = 0\n",
    "        for tup in R.keys():\n",
    "            i,j = tup\n",
    "            e = e + pow(R[(i,j)] - numpy.dot(P[i,:],Q[:,j]), 2)\n",
    "            for k in range(K):\n",
    "                e = e + (beta/2) * ( pow(P[i][k],2) + pow(Q[k][j],2) )\n",
    "        if e < 0.001:\n",
    "            break\n",
    "\n",
    "    return P, Q.T"
   ]
  },
  {
   "cell_type": "code",
   "execution_count": null,
   "metadata": {
    "scrolled": true
   },
   "outputs": [],
   "source": [
    "if __name__ == \"__main__\":\n",
    "    R = tr_data\n",
    "\n",
    "    #R = numpy.array(R)\n",
    "\n",
    "    N = row\n",
    "    M = col\n",
    "    K = 100\n",
    "\n",
    "    P = numpy.random.rand(N,K)\n",
    "    Q = numpy.random.rand(M,K)\n",
    "\n",
    "    nP, nQ = matrix_factorization(R, P, Q, K)"
   ]
  },
  {
   "cell_type": "code",
   "execution_count": 15,
   "metadata": {},
   "outputs": [
    {
     "data": {
      "text/plain": [
       "[(91061, 2865),\n",
       " (91061, 1797),\n",
       " (91061, 3869),\n",
       " (91061, 1366),\n",
       " (91061, 3729),\n",
       " (91061, 2477),\n",
       " (91061, 2947),\n",
       " (91061, 3420),\n",
       " (21742, 606),\n",
       " (21742, 1366)]"
      ]
     },
     "execution_count": 15,
     "metadata": {},
     "output_type": "execute_result"
    }
   ],
   "source": [
    "list(tr_data.keys())[:10]"
   ]
  }
 ],
 "metadata": {
  "kernelspec": {
   "display_name": "Python 3",
   "language": "python",
   "name": "python3"
  },
  "language_info": {
   "codemirror_mode": {
    "name": "ipython",
    "version": 3
   },
   "file_extension": ".py",
   "mimetype": "text/x-python",
   "name": "python",
   "nbconvert_exporter": "python",
   "pygments_lexer": "ipython3",
   "version": "3.6.1"
  }
 },
 "nbformat": 4,
 "nbformat_minor": 2
}
