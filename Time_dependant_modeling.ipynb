{
 "cells": [
  {
   "cell_type": "markdown",
   "metadata": {},
   "source": [
    "# Trying to use time features"
   ]
  },
  {
   "cell_type": "code",
   "execution_count": 1,
   "metadata": {},
   "outputs": [
    {
     "data": {
      "text/plain": [
       "0"
      ]
     },
     "execution_count": 1,
     "metadata": {},
     "output_type": "execute_result"
    }
   ],
   "source": [
    "import pandas as pd\n",
    "\n",
    "df = pd.read_csv('Whole_dataset1.txt')\n",
    "\n",
    "df = df.sort_values(by='Date')\n",
    "\n",
    "import gc; gc.collect()"
   ]
  },
  {
   "cell_type": "markdown",
   "metadata": {},
   "source": [
    "## Creating a new feature 'timestamp'"
   ]
  },
  {
   "cell_type": "code",
   "execution_count": 2,
   "metadata": {
    "collapsed": true
   },
   "outputs": [],
   "source": [
    "date = df.Date.tolist()\n",
    "timestamp = [int(''.join(i.split('-'))) for i in date]\n",
    "df['timestamp'] = timestamp; del timestamp\n",
    "del date"
   ]
  },
  {
   "cell_type": "markdown",
   "metadata": {},
   "source": [
    "## Doing joins"
   ]
  },
  {
   "cell_type": "code",
   "execution_count": 3,
   "metadata": {
    "collapsed": true
   },
   "outputs": [],
   "source": [
    "df = df.drop(axis=1,labels=['Date'])\n",
    "\n",
    "ddf = pd.concat([pd.read_pickle('info_1.pkl'),\n",
    "          pd.read_pickle('info_2.pkl'),\n",
    "          pd.read_pickle('info_3.pkl')])\n",
    "\n",
    "df = df.join(ddf.set_index('MovieID'),on='MovieID')\n",
    "del ddf\n",
    "\n",
    "ddf = pd.concat([pd.read_pickle('movie_info1.pkl'),\n",
    "          pd.read_pickle('movie_info2.pkl'),\n",
    "          pd.read_pickle('movie_info3.pkl'),\n",
    "                pd.read_pickle('movie_info4.pkl'),\n",
    "                pd.read_pickle('movie_info5.pkl')])\n",
    "\n",
    "df = df.join(ddf.set_index('CustomerID'),on='CustomerID')\n",
    "del ddf\n",
    "\n",
    "ddf = pd.read_pickle('modified_movie_title_year.pkl')\n",
    "\n",
    "df = df.join(ddf.set_index('MovieID'),on='MovieID')\n",
    "del ddf\n",
    "\n",
    "df = df.drop(axis=1, labels=['MovieID','CustomerID'])"
   ]
  },
  {
   "cell_type": "code",
   "execution_count": 4,
   "metadata": {
    "collapsed": true
   },
   "outputs": [],
   "source": [
    "from sklearn.metrics import mean_squared_error\n",
    "import math\n",
    "rmse = []"
   ]
  },
  {
   "cell_type": "markdown",
   "metadata": {},
   "source": [
    "### Logistic regression with simple time features"
   ]
  },
  {
   "cell_type": "code",
   "execution_count": 5,
   "metadata": {},
   "outputs": [
    {
     "data": {
      "text/html": [
       "<div>\n",
       "<style>\n",
       "    .dataframe thead tr:only-child th {\n",
       "        text-align: right;\n",
       "    }\n",
       "\n",
       "    .dataframe thead th {\n",
       "        text-align: left;\n",
       "    }\n",
       "\n",
       "    .dataframe tbody tr th {\n",
       "        vertical-align: top;\n",
       "    }\n",
       "</style>\n",
       "<table border=\"1\" class=\"dataframe\">\n",
       "  <thead>\n",
       "    <tr style=\"text-align: right;\">\n",
       "      <th></th>\n",
       "      <th>Score</th>\n",
       "      <th>timestamp</th>\n",
       "      <th>NumberOfRating</th>\n",
       "      <th>MeanRating</th>\n",
       "      <th>StdDev</th>\n",
       "      <th>Cust_mean</th>\n",
       "      <th>cust_stddev</th>\n",
       "      <th>freq_of_rating</th>\n",
       "      <th>Year_of_release</th>\n",
       "    </tr>\n",
       "  </thead>\n",
       "  <tbody>\n",
       "    <tr>\n",
       "      <th>9056171</th>\n",
       "      <td>5</td>\n",
       "      <td>19991111</td>\n",
       "      <td>113377</td>\n",
       "      <td>3.971317</td>\n",
       "      <td>0.893782</td>\n",
       "      <td>3.364807</td>\n",
       "      <td>0.958341</td>\n",
       "      <td>233</td>\n",
       "      <td>19870101</td>\n",
       "    </tr>\n",
       "    <tr>\n",
       "      <th>14892677</th>\n",
       "      <td>3</td>\n",
       "      <td>19991111</td>\n",
       "      <td>22415</td>\n",
       "      <td>3.439929</td>\n",
       "      <td>1.099609</td>\n",
       "      <td>3.364807</td>\n",
       "      <td>0.958341</td>\n",
       "      <td>233</td>\n",
       "      <td>19990101</td>\n",
       "    </tr>\n",
       "    <tr>\n",
       "      <th>19585852</th>\n",
       "      <td>4</td>\n",
       "      <td>19991111</td>\n",
       "      <td>40191</td>\n",
       "      <td>3.952726</td>\n",
       "      <td>0.888977</td>\n",
       "      <td>3.364807</td>\n",
       "      <td>0.958341</td>\n",
       "      <td>233</td>\n",
       "      <td>19980101</td>\n",
       "    </tr>\n",
       "  </tbody>\n",
       "</table>\n",
       "</div>"
      ],
      "text/plain": [
       "          Score  timestamp  NumberOfRating  MeanRating    StdDev  Cust_mean  \\\n",
       "9056171       5   19991111          113377    3.971317  0.893782   3.364807   \n",
       "14892677      3   19991111           22415    3.439929  1.099609   3.364807   \n",
       "19585852      4   19991111           40191    3.952726  0.888977   3.364807   \n",
       "\n",
       "          cust_stddev  freq_of_rating  Year_of_release  \n",
       "9056171      0.958341             233         19870101  \n",
       "14892677     0.958341             233         19990101  \n",
       "19585852     0.958341             233         19980101  "
      ]
     },
     "execution_count": 5,
     "metadata": {},
     "output_type": "execute_result"
    }
   ],
   "source": [
    "'''Printing a sample from the traindata to see the features that have been used'''\n",
    "df.head(3)"
   ]
  },
  {
   "cell_type": "code",
   "execution_count": 6,
   "metadata": {
    "collapsed": true
   },
   "outputs": [],
   "source": [
    "from sklearn.linear_model import LinearRegression\n",
    "reg = LinearRegression(n_jobs=-1,normalize=True)\n",
    "l = int(df.shape[0]*.7)\n",
    "reg.fit(df.drop(axis=1,labels=['Score'])[:l],df.Score[:l])\n",
    "hypothesis = reg.predict(df.drop(axis=1,labels=['Score'])[l:])"
   ]
  },
  {
   "cell_type": "code",
   "execution_count": 7,
   "metadata": {},
   "outputs": [
    {
     "data": {
      "text/plain": [
       "0.9285131697373992"
      ]
     },
     "execution_count": 7,
     "metadata": {},
     "output_type": "execute_result"
    }
   ],
   "source": [
    "e = math.sqrt(mean_squared_error(df.Score[l:],hypothesis))\n",
    "e"
   ]
  },
  {
   "cell_type": "code",
   "execution_count": 8,
   "metadata": {},
   "outputs": [],
   "source": [
    "rmse.append(e)"
   ]
  },
  {
   "cell_type": "markdown",
   "metadata": {},
   "source": [
    "### Using SGD Regressor"
   ]
  },
  {
   "cell_type": "code",
   "execution_count": 10,
   "metadata": {
    "collapsed": true
   },
   "outputs": [],
   "source": [
    "from sklearn.linear_model import SGDRegressor\n",
    "reg = SGDRegressor()\n",
    "l = int(df.shape[0]*.7)\n",
    "reg.fit(df.drop(axis=1,labels=['Score'])[:l],df.Score[:l])\n",
    "hypothesis = reg.predict(df.drop(axis=1,labels=['Score'])[l:])"
   ]
  },
  {
   "cell_type": "code",
   "execution_count": 11,
   "metadata": {},
   "outputs": [
    {
     "data": {
      "text/plain": [
       "4.055276644453863e+22"
      ]
     },
     "execution_count": 11,
     "metadata": {},
     "output_type": "execute_result"
    }
   ],
   "source": [
    "e = math.sqrt(mean_squared_error(df.Score[l:],hypothesis))\n",
    "e"
   ]
  },
  {
   "cell_type": "code",
   "execution_count": 12,
   "metadata": {},
   "outputs": [
    {
     "name": "stdout",
     "output_type": "stream",
     "text": [
      "[  4.04965655e+22   4.05150541e+22   4.05797365e+22   4.05797385e+22\n",
      "   4.05154135e+22   4.04669849e+22   4.04806648e+22   4.04806622e+22\n",
      "   4.04918726e+22   4.04675011e+22]\n"
     ]
    }
   ],
   "source": [
    "print (hypothesis[:10])"
   ]
  },
  {
   "cell_type": "markdown",
   "metadata": {},
   "source": [
    "    Something is going wrong with SGD Regressor"
   ]
  },
  {
   "cell_type": "markdown",
   "metadata": {},
   "source": [
    "    There isnt't much increase in the performance. Let's consider only the data from 2004 and onwards"
   ]
  },
  {
   "cell_type": "code",
   "execution_count": 13,
   "metadata": {},
   "outputs": [
    {
     "data": {
      "text/plain": [
       "(20131855, 9)"
      ]
     },
     "execution_count": 13,
     "metadata": {},
     "output_type": "execute_result"
    }
   ],
   "source": [
    "df_2004 = df[df.timestamp > 20040000]\n",
    "df_2004.shape"
   ]
  },
  {
   "cell_type": "code",
   "execution_count": 14,
   "metadata": {
    "collapsed": true
   },
   "outputs": [],
   "source": [
    "reg = LinearRegression(n_jobs=-1,normalize=True)\n",
    "l = int(df_2004.shape[0]*.7)\n",
    "reg.fit(df_2004.drop(axis=1,labels=['Score'])[:l],df_2004.Score[:l])\n",
    "hypothesis = reg.predict(df_2004.drop(axis=1,labels=['Score'])[l:])"
   ]
  },
  {
   "cell_type": "code",
   "execution_count": 15,
   "metadata": {},
   "outputs": [
    {
     "data": {
      "text/plain": [
       "0.9266706645591626"
      ]
     },
     "execution_count": 15,
     "metadata": {},
     "output_type": "execute_result"
    }
   ],
   "source": [
    "e = math.sqrt(mean_squared_error(df_2004.Score[l:],hypothesis))\n",
    "del df_2004\n",
    "e"
   ]
  },
  {
   "cell_type": "markdown",
   "metadata": {},
   "source": [
    "    Let's see the same on only 2005 data"
   ]
  },
  {
   "cell_type": "code",
   "execution_count": 16,
   "metadata": {},
   "outputs": [
    {
     "data": {
      "text/plain": [
       "(12562227, 9)"
      ]
     },
     "execution_count": 16,
     "metadata": {},
     "output_type": "execute_result"
    }
   ],
   "source": [
    "df_2005 = df[df.timestamp > 20050000]\n",
    "df_2005.shape"
   ]
  },
  {
   "cell_type": "code",
   "execution_count": 17,
   "metadata": {
    "collapsed": true
   },
   "outputs": [],
   "source": [
    "reg = LinearRegression(n_jobs=-1,normalize=True)\n",
    "l = int(df_2005.shape[0]*.7)\n",
    "reg.fit(df_2005.drop(axis=1,labels=['Score'])[:l],df_2005.Score[:l])\n",
    "hypothesis = reg.predict(df_2005.drop(axis=1,labels=['Score'])[l:])"
   ]
  },
  {
   "cell_type": "code",
   "execution_count": 18,
   "metadata": {},
   "outputs": [
    {
     "data": {
      "text/plain": [
       "0.9213388518627924"
      ]
     },
     "execution_count": 18,
     "metadata": {},
     "output_type": "execute_result"
    }
   ],
   "source": [
    "e = math.sqrt(mean_squared_error(df_2005.Score[l:],hypothesis))\n",
    "del df_2005\n",
    "e"
   ]
  },
  {
   "cell_type": "code",
   "execution_count": 19,
   "metadata": {
    "collapsed": true
   },
   "outputs": [],
   "source": [
    "del df"
   ]
  }
 ],
 "metadata": {
  "kernelspec": {
   "display_name": "Python 3",
   "language": "python",
   "name": "python3"
  },
  "language_info": {
   "codemirror_mode": {
    "name": "ipython",
    "version": 3
   },
   "file_extension": ".py",
   "mimetype": "text/x-python",
   "name": "python",
   "nbconvert_exporter": "python",
   "pygments_lexer": "ipython3",
   "version": "3.6.1"
  }
 },
 "nbformat": 4,
 "nbformat_minor": 2
}
