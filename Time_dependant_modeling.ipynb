{
 "cells": [
  {
   "cell_type": "markdown",
   "metadata": {},
   "source": [
    "# Trying to use time features"
   ]
  },
  {
   "cell_type": "code",
   "execution_count": 1,
   "metadata": {},
   "outputs": [
    {
     "data": {
      "text/plain": [
       "53"
      ]
     },
     "execution_count": 1,
     "metadata": {},
     "output_type": "execute_result"
    }
   ],
   "source": [
    "import pandas as pd\n",
    "\n",
    "df = pd.read_csv('Whole_dataset1.txt')\n",
    "\n",
    "df = df.sort_values(by='Date')\n",
    "\n",
    "import gc; gc.collect()"
   ]
  },
  {
   "cell_type": "markdown",
   "metadata": {},
   "source": [
    "## Creating a new feature 'timestamp'"
   ]
  },
  {
   "cell_type": "code",
   "execution_count": 2,
   "metadata": {
    "collapsed": true
   },
   "outputs": [],
   "source": [
    "date = df.Date.tolist()\n",
    "timestamp = [int(''.join(i.split('-'))) for i in date]\n",
    "df['timestamp'] = timestamp; del timestamp\n",
    "del date"
   ]
  },
  {
   "cell_type": "markdown",
   "metadata": {},
   "source": [
    "## Doing joins"
   ]
  },
  {
   "cell_type": "code",
   "execution_count": 3,
   "metadata": {
    "collapsed": true
   },
   "outputs": [],
   "source": [
    "df = df.drop(axis=1,labels=['Date'])\n",
    "\n",
    "ddf = pd.concat([pd.read_pickle('info_1.pkl'),\n",
    "          pd.read_pickle('info_2.pkl'),\n",
    "          pd.read_pickle('info_3.pkl')])\n",
    "\n",
    "df = df.join(ddf.set_index('MovieID'),on='MovieID')\n",
    "del ddf\n",
    "\n",
    "ddf = pd.concat([pd.read_pickle('movie_info1.pkl'),\n",
    "          pd.read_pickle('movie_info2.pkl'),\n",
    "          pd.read_pickle('movie_info3.pkl'),\n",
    "                pd.read_pickle('movie_info4.pkl'),\n",
    "                pd.read_pickle('movie_info5.pkl')])\n",
    "\n",
    "df = df.join(ddf.set_index('CustomerID'),on='CustomerID')\n",
    "del ddf\n",
    "\n",
    "ddf = pd.read_pickle('modified_movie_title_year.pkl')\n",
    "\n",
    "df = df.join(ddf.set_index('MovieID'),on='MovieID')\n",
    "del ddf"
   ]
  },
  {
   "cell_type": "code",
   "execution_count": null,
   "metadata": {
    "collapsed": true
   },
   "outputs": [],
   "source": [
    "from sklearn.metrics import mean_squared_error\n",
    "import math\n",
    "rmse = []"
   ]
  },
  {
   "cell_type": "markdown",
   "metadata": {},
   "source": [
    "### Logistic regression with simple time features"
   ]
  },
  {
   "cell_type": "code",
   "execution_count": null,
   "metadata": {
    "collapsed": true
   },
   "outputs": [],
   "source": [
    "'''Printing a sample from the traindata to see the features that have been used'''\n",
    "df.head(3)"
   ]
  },
  {
   "cell_type": "code",
   "execution_count": null,
   "metadata": {
    "collapsed": true
   },
   "outputs": [],
   "source": [
    "from sklearn.linear_model import LinearRegression\n",
    "reg = LinearRegression(n_jobs=-1,normalize=True)\n",
    "l = int(df.shape[0]*.7)\n",
    "reg.fit(df.drop(axis=1,labels=['Score'])[:l],df.Score[:l])\n",
    "hypothesis = reg.predict(df.drop(axis=1,labels=['Score'])[l:])"
   ]
  },
  {
   "cell_type": "code",
   "execution_count": null,
   "metadata": {
    "collapsed": true
   },
   "outputs": [],
   "source": [
    "e = math.sqrt(mean_squared_error(df.Score[l:],hypothesis))\n",
    "e"
   ]
  },
  {
   "cell_type": "code",
   "execution_count": null,
   "metadata": {
    "collapsed": true
   },
   "outputs": [],
   "source": [
    "rmse.append(e)"
   ]
  },
  {
   "cell_type": "markdown",
   "metadata": {},
   "source": [
    "### Using SGD Regressor"
   ]
  },
  {
   "cell_type": "code",
   "execution_count": null,
   "metadata": {
    "collapsed": true
   },
   "outputs": [],
   "source": [
    "from sklearn.linear_model import SGDRegressor\n",
    "reg = SGDRegressor()\n",
    "l = int(df.shape[0]*.7)\n",
    "reg.fit(df.drop(axis=1,labels=['Score'])[:l],df.Score[:l])\n",
    "hypothesis = reg.predict(df.drop(axis=1,labels=['Score'])[l:])"
   ]
  },
  {
   "cell_type": "code",
   "execution_count": null,
   "metadata": {
    "collapsed": true
   },
   "outputs": [],
   "source": [
    "e = math.sqrt(mean_squared_error(df.Score[l:],hypothesis))\n",
    "e"
   ]
  },
  {
   "cell_type": "code",
   "execution_count": null,
   "metadata": {
    "collapsed": true
   },
   "outputs": [],
   "source": [
    "print (hypothesis[:10])"
   ]
  },
  {
   "cell_type": "markdown",
   "metadata": {},
   "source": [
    "    Something is going wrong with SGD Regressor"
   ]
  },
  {
   "cell_type": "markdown",
   "metadata": {},
   "source": [
    "    There isnt't much increase in the performance. Let's consider only the data from 2004 and onwards"
   ]
  },
  {
   "cell_type": "code",
   "execution_count": null,
   "metadata": {
    "collapsed": true
   },
   "outputs": [],
   "source": [
    "df_2004 = df[df.timestamp > 20040000]\n",
    "df_2004.shape"
   ]
  },
  {
   "cell_type": "code",
   "execution_count": null,
   "metadata": {
    "collapsed": true
   },
   "outputs": [],
   "source": [
    "reg = LinearRegression(n_jobs=-1,normalize=True)\n",
    "l = int(df_2004.shape[0]*.7)\n",
    "reg.fit(df_2004.drop(axis=1,labels=['Score'])[:l],df_2004.Score[:l])\n",
    "hypothesis = reg.predict(df_2004.drop(axis=1,labels=['Score'])[l:])"
   ]
  },
  {
   "cell_type": "code",
   "execution_count": null,
   "metadata": {
    "collapsed": true
   },
   "outputs": [],
   "source": [
    "e = math.sqrt(mean_squared_error(df_2004.Score[l:],hypothesis))\n",
    "del df_2004\n",
    "e"
   ]
  },
  {
   "cell_type": "markdown",
   "metadata": {},
   "source": [
    "    Let's see the same on only 2005 data"
   ]
  },
  {
   "cell_type": "code",
   "execution_count": null,
   "metadata": {
    "collapsed": true
   },
   "outputs": [],
   "source": [
    "df_2005 = df[df.timestamp > 20050000]\n",
    "df_2005.shape"
   ]
  },
  {
   "cell_type": "code",
   "execution_count": null,
   "metadata": {
    "collapsed": true
   },
   "outputs": [],
   "source": [
    "reg = LinearRegression(n_jobs=-1,normalize=True)\n",
    "l = int(df_2005.shape[0]*.7)\n",
    "reg.fit(df_2005.drop(axis=1,labels=['Score'])[:l],df_2005.Score[:l])\n",
    "hypothesis = reg.predict(df_2005.drop(axis=1,labels=['Score'])[l:])"
   ]
  },
  {
   "cell_type": "code",
   "execution_count": null,
   "metadata": {
    "collapsed": true
   },
   "outputs": [],
   "source": [
    "e = math.sqrt(mean_squared_error(df_2005.Score[l:],hypothesis))\n",
    "del df_2005\n",
    "e"
   ]
  },
  {
   "cell_type": "code",
   "execution_count": null,
   "metadata": {
    "collapsed": true
   },
   "outputs": [],
   "source": [
    "del df"
   ]
  },
  {
   "cell_type": "markdown",
   "metadata": {},
   "source": [
    "# Including vectors from MF "
   ]
  },
  {
   "cell_type": "code",
   "execution_count": 4,
   "metadata": {},
   "outputs": [
    {
     "data": {
      "text/plain": [
       "((470758, 10), (10, 4499))"
      ]
     },
     "execution_count": 4,
     "metadata": {},
     "output_type": "execute_result"
    }
   ],
   "source": [
    "import pickle\n",
    "with open('Matrix10_UM.pkl','rb') as fp:\n",
    "    user_mat, mov_mat = pickle.load(fp)\n",
    "fp.close()\n",
    "user_mat.shape, mov_mat.shape"
   ]
  },
  {
   "cell_type": "code",
   "execution_count": 5,
   "metadata": {},
   "outputs": [
    {
     "data": {
      "text/html": [
       "<div>\n",
       "<style>\n",
       "    .dataframe thead tr:only-child th {\n",
       "        text-align: right;\n",
       "    }\n",
       "\n",
       "    .dataframe thead th {\n",
       "        text-align: left;\n",
       "    }\n",
       "\n",
       "    .dataframe tbody tr th {\n",
       "        vertical-align: top;\n",
       "    }\n",
       "</style>\n",
       "<table border=\"1\" class=\"dataframe\">\n",
       "  <thead>\n",
       "    <tr style=\"text-align: right;\">\n",
       "      <th></th>\n",
       "      <th>U1</th>\n",
       "      <th>U2</th>\n",
       "      <th>U3</th>\n",
       "      <th>U4</th>\n",
       "      <th>U5</th>\n",
       "      <th>U6</th>\n",
       "      <th>U7</th>\n",
       "      <th>U8</th>\n",
       "      <th>U9</th>\n",
       "      <th>U10</th>\n",
       "      <th>CustomerID</th>\n",
       "    </tr>\n",
       "  </thead>\n",
       "  <tbody>\n",
       "    <tr>\n",
       "      <th>0</th>\n",
       "      <td>0.247516</td>\n",
       "      <td>1.530273</td>\n",
       "      <td>0.667864</td>\n",
       "      <td>0.157511</td>\n",
       "      <td>0.000000</td>\n",
       "      <td>0.054146</td>\n",
       "      <td>0.081579</td>\n",
       "      <td>0.000000</td>\n",
       "      <td>0.14167</td>\n",
       "      <td>0.220464</td>\n",
       "      <td>6</td>\n",
       "    </tr>\n",
       "    <tr>\n",
       "      <th>1</th>\n",
       "      <td>0.164473</td>\n",
       "      <td>2.604064</td>\n",
       "      <td>0.633440</td>\n",
       "      <td>0.452483</td>\n",
       "      <td>0.391106</td>\n",
       "      <td>0.319762</td>\n",
       "      <td>0.007162</td>\n",
       "      <td>0.269236</td>\n",
       "      <td>0.18859</td>\n",
       "      <td>0.193465</td>\n",
       "      <td>7</td>\n",
       "    </tr>\n",
       "  </tbody>\n",
       "</table>\n",
       "</div>"
      ],
      "text/plain": [
       "         U1        U2        U3        U4        U5        U6        U7  \\\n",
       "0  0.247516  1.530273  0.667864  0.157511  0.000000  0.054146  0.081579   \n",
       "1  0.164473  2.604064  0.633440  0.452483  0.391106  0.319762  0.007162   \n",
       "\n",
       "         U8       U9       U10  CustomerID  \n",
       "0  0.000000  0.14167  0.220464           6  \n",
       "1  0.269236  0.18859  0.193465           7  "
      ]
     },
     "execution_count": 5,
     "metadata": {},
     "output_type": "execute_result"
    }
   ],
   "source": [
    "cus = sorted(list(set(df['CustomerID'])))\n",
    "cus = pd.DataFrame(data = cus)\n",
    "user_mat = pd.DataFrame(data = user_mat,columns=['U1','U2','U3','U4','U5','U6','U7','U8','U9','U10'])\n",
    "user_mat['CustomerID'] = cus\n",
    "del cus\n",
    "user_mat.head(2)"
   ]
  },
  {
   "cell_type": "code",
   "execution_count": 6,
   "metadata": {},
   "outputs": [
    {
     "data": {
      "text/html": [
       "<div>\n",
       "<style>\n",
       "    .dataframe thead tr:only-child th {\n",
       "        text-align: right;\n",
       "    }\n",
       "\n",
       "    .dataframe thead th {\n",
       "        text-align: left;\n",
       "    }\n",
       "\n",
       "    .dataframe tbody tr th {\n",
       "        vertical-align: top;\n",
       "    }\n",
       "</style>\n",
       "<table border=\"1\" class=\"dataframe\">\n",
       "  <thead>\n",
       "    <tr style=\"text-align: right;\">\n",
       "      <th></th>\n",
       "      <th>M1</th>\n",
       "      <th>M2</th>\n",
       "      <th>M3</th>\n",
       "      <th>M4</th>\n",
       "      <th>M5</th>\n",
       "      <th>M6</th>\n",
       "      <th>M7</th>\n",
       "      <th>M8</th>\n",
       "      <th>M9</th>\n",
       "      <th>M10</th>\n",
       "      <th>MovieID</th>\n",
       "    </tr>\n",
       "  </thead>\n",
       "  <tbody>\n",
       "    <tr>\n",
       "      <th>0</th>\n",
       "      <td>0.012890</td>\n",
       "      <td>0.000000</td>\n",
       "      <td>0.000596</td>\n",
       "      <td>0.016911</td>\n",
       "      <td>0.002714</td>\n",
       "      <td>0.0</td>\n",
       "      <td>0.00000</td>\n",
       "      <td>0.0</td>\n",
       "      <td>0.000000</td>\n",
       "      <td>0.000694</td>\n",
       "      <td>1</td>\n",
       "    </tr>\n",
       "    <tr>\n",
       "      <th>1</th>\n",
       "      <td>0.000117</td>\n",
       "      <td>0.000472</td>\n",
       "      <td>0.000000</td>\n",
       "      <td>0.000000</td>\n",
       "      <td>0.000000</td>\n",
       "      <td>0.0</td>\n",
       "      <td>0.00397</td>\n",
       "      <td>0.0</td>\n",
       "      <td>0.001019</td>\n",
       "      <td>0.001949</td>\n",
       "      <td>2</td>\n",
       "    </tr>\n",
       "  </tbody>\n",
       "</table>\n",
       "</div>"
      ],
      "text/plain": [
       "         M1        M2        M3        M4        M5   M6       M7   M8  \\\n",
       "0  0.012890  0.000000  0.000596  0.016911  0.002714  0.0  0.00000  0.0   \n",
       "1  0.000117  0.000472  0.000000  0.000000  0.000000  0.0  0.00397  0.0   \n",
       "\n",
       "         M9       M10  MovieID  \n",
       "0  0.000000  0.000694        1  \n",
       "1  0.001019  0.001949        2  "
      ]
     },
     "execution_count": 6,
     "metadata": {},
     "output_type": "execute_result"
    }
   ],
   "source": [
    "mov_mat = mov_mat.T\n",
    "mov_mat = pd.DataFrame(data = mov_mat,\\\n",
    "columns=['M1','M2','M3','M4','M5','M6','M7','M8','M9','M10'])\n",
    "mov = list(range(1,4500))\n",
    "mov_mat['MovieID'] = mov\n",
    "del mov\n",
    "mov_mat.head(2)"
   ]
  },
  {
   "cell_type": "markdown",
   "metadata": {},
   "source": []
  },
  {
   "cell_type": "markdown",
   "metadata": {},
   "source": [
    "### Table joins"
   ]
  },
  {
   "cell_type": "code",
   "execution_count": 7,
   "metadata": {},
   "outputs": [
    {
     "data": {
      "text/html": [
       "<div>\n",
       "<style>\n",
       "    .dataframe thead tr:only-child th {\n",
       "        text-align: right;\n",
       "    }\n",
       "\n",
       "    .dataframe thead th {\n",
       "        text-align: left;\n",
       "    }\n",
       "\n",
       "    .dataframe tbody tr th {\n",
       "        vertical-align: top;\n",
       "    }\n",
       "</style>\n",
       "<table border=\"1\" class=\"dataframe\">\n",
       "  <thead>\n",
       "    <tr style=\"text-align: right;\">\n",
       "      <th></th>\n",
       "      <th>timestamp</th>\n",
       "      <th>NumberOfRating</th>\n",
       "      <th>MeanRating</th>\n",
       "      <th>StdDev</th>\n",
       "      <th>Cust_mean</th>\n",
       "      <th>cust_stddev</th>\n",
       "      <th>freq_of_rating</th>\n",
       "      <th>Year_of_release</th>\n",
       "      <th>U1</th>\n",
       "      <th>U2</th>\n",
       "      <th>...</th>\n",
       "      <th>M1</th>\n",
       "      <th>M2</th>\n",
       "      <th>M3</th>\n",
       "      <th>M4</th>\n",
       "      <th>M5</th>\n",
       "      <th>M6</th>\n",
       "      <th>M7</th>\n",
       "      <th>M8</th>\n",
       "      <th>M9</th>\n",
       "      <th>M10</th>\n",
       "    </tr>\n",
       "  </thead>\n",
       "  <tbody>\n",
       "    <tr>\n",
       "      <th>9056171</th>\n",
       "      <td>19991111</td>\n",
       "      <td>113377</td>\n",
       "      <td>3.971317</td>\n",
       "      <td>0.893782</td>\n",
       "      <td>3.364807</td>\n",
       "      <td>0.958341</td>\n",
       "      <td>233</td>\n",
       "      <td>19870101</td>\n",
       "      <td>0.558849</td>\n",
       "      <td>0.0</td>\n",
       "      <td>...</td>\n",
       "      <td>0.000000</td>\n",
       "      <td>0.55414</td>\n",
       "      <td>0.463257</td>\n",
       "      <td>1.385780</td>\n",
       "      <td>0.000000</td>\n",
       "      <td>4.994782</td>\n",
       "      <td>0.0</td>\n",
       "      <td>0.0</td>\n",
       "      <td>5.884801</td>\n",
       "      <td>0.0</td>\n",
       "    </tr>\n",
       "    <tr>\n",
       "      <th>14892677</th>\n",
       "      <td>19991111</td>\n",
       "      <td>22415</td>\n",
       "      <td>3.439929</td>\n",
       "      <td>1.099609</td>\n",
       "      <td>3.364807</td>\n",
       "      <td>0.958341</td>\n",
       "      <td>233</td>\n",
       "      <td>19990101</td>\n",
       "      <td>0.558849</td>\n",
       "      <td>0.0</td>\n",
       "      <td>...</td>\n",
       "      <td>0.130603</td>\n",
       "      <td>0.00000</td>\n",
       "      <td>0.000000</td>\n",
       "      <td>0.206944</td>\n",
       "      <td>1.469368</td>\n",
       "      <td>1.461222</td>\n",
       "      <td>0.0</td>\n",
       "      <td>0.0</td>\n",
       "      <td>0.119141</td>\n",
       "      <td>0.0</td>\n",
       "    </tr>\n",
       "  </tbody>\n",
       "</table>\n",
       "<p>2 rows × 28 columns</p>\n",
       "</div>"
      ],
      "text/plain": [
       "          timestamp  NumberOfRating  MeanRating    StdDev  Cust_mean  \\\n",
       "9056171    19991111          113377    3.971317  0.893782   3.364807   \n",
       "14892677   19991111           22415    3.439929  1.099609   3.364807   \n",
       "\n",
       "          cust_stddev  freq_of_rating  Year_of_release        U1   U2 ...   \\\n",
       "9056171      0.958341             233         19870101  0.558849  0.0 ...    \n",
       "14892677     0.958341             233         19990101  0.558849  0.0 ...    \n",
       "\n",
       "                M1       M2        M3        M4        M5        M6   M7   M8  \\\n",
       "9056171   0.000000  0.55414  0.463257  1.385780  0.000000  4.994782  0.0  0.0   \n",
       "14892677  0.130603  0.00000  0.000000  0.206944  1.469368  1.461222  0.0  0.0   \n",
       "\n",
       "                M9  M10  \n",
       "9056171   5.884801  0.0  \n",
       "14892677  0.119141  0.0  \n",
       "\n",
       "[2 rows x 28 columns]"
      ]
     },
     "execution_count": 7,
     "metadata": {},
     "output_type": "execute_result"
    }
   ],
   "source": [
    "df = df.join(user_mat.set_index('CustomerID'),on='CustomerID')\n",
    "del user_mat\n",
    "df = df.join(mov_mat.set_index('MovieID'),on='MovieID')\n",
    "del mov_mat\n",
    "Y = df.Score.tolist()\n",
    "df = df.drop(axis=1,labels=['Score','CustomerID','MovieID'])\n",
    "df.head(2)"
   ]
  },
  {
   "cell_type": "code",
   "execution_count": 10,
   "metadata": {
    "collapsed": true
   },
   "outputs": [],
   "source": [
    "l = int(df.shape[0]*.7)\n",
    "ts_df = df[l:]; df = df[:l] \n",
    "ts_Y = Y[l:]; Y = Y[:l]"
   ]
  },
  {
   "cell_type": "code",
   "execution_count": 11,
   "metadata": {},
   "outputs": [
    {
     "data": {
      "text/plain": [
       "0"
      ]
     },
     "execution_count": 11,
     "metadata": {},
     "output_type": "execute_result"
    }
   ],
   "source": [
    "import gc\n",
    "gc.collect()"
   ]
  },
  {
   "cell_type": "markdown",
   "metadata": {
    "collapsed": true
   },
   "source": [
    "## Linear Regression"
   ]
  },
  {
   "cell_type": "code",
   "execution_count": 12,
   "metadata": {
    "collapsed": true
   },
   "outputs": [],
   "source": [
    "from sklearn.linear_model import LinearRegression\n",
    "reg = LinearRegression(n_jobs=-1,normalize=True)\n",
    "reg.fit(df,Y)\n",
    "hypothesis = reg.predict(ts_df)"
   ]
  },
  {
   "cell_type": "code",
   "execution_count": 13,
   "metadata": {},
   "outputs": [
    {
     "data": {
      "text/plain": [
       "0.9045219722876191"
      ]
     },
     "execution_count": 13,
     "metadata": {},
     "output_type": "execute_result"
    }
   ],
   "source": [
    "from sklearn.metrics import mean_squared_error\n",
    "import math\n",
    "m = math.sqrt(mean_squared_error(ts_Y,hypothesis))\n",
    "m"
   ]
  },
  {
   "cell_type": "code",
   "execution_count": null,
   "metadata": {
    "collapsed": true
   },
   "outputs": [],
   "source": [
    "print(test)"
   ]
  },
  {
   "cell_type": "code",
   "execution_count": 14,
   "metadata": {},
   "outputs": [
    {
     "data": {
      "text/plain": [
       "Index(['timestamp', 'NumberOfRating', 'MeanRating', 'StdDev', 'Cust_mean',\n",
       "       'cust_stddev', 'freq_of_rating', 'Year_of_release', 'U1', 'U2', 'U3',\n",
       "       'U4', 'U5', 'U6', 'U7', 'U8', 'U9', 'U10', 'M1', 'M2', 'M3', 'M4', 'M5',\n",
       "       'M6', 'M7', 'M8', 'M9', 'M10'],\n",
       "      dtype='object')"
      ]
     },
     "execution_count": 14,
     "metadata": {},
     "output_type": "execute_result"
    }
   ],
   "source": [
    "df.columns"
   ]
  }
 ],
 "metadata": {
  "kernelspec": {
   "display_name": "Python 3",
   "language": "python",
   "name": "python3"
  },
  "language_info": {
   "codemirror_mode": {
    "name": "ipython",
    "version": 3
   },
   "file_extension": ".py",
   "mimetype": "text/x-python",
   "name": "python",
   "nbconvert_exporter": "python",
   "pygments_lexer": "ipython3",
   "version": "3.6.1"
  }
 },
 "nbformat": 4,
 "nbformat_minor": 2
}
