{
 "cells": [
  {
   "cell_type": "markdown",
   "metadata": {},
   "source": [
    "# Trying to use time features"
   ]
  },
  {
   "cell_type": "code",
   "execution_count": 1,
   "metadata": {},
   "outputs": [
    {
     "data": {
      "text/plain": [
       "53"
      ]
     },
     "execution_count": 1,
     "metadata": {},
     "output_type": "execute_result"
    }
   ],
   "source": [
    "import pandas as pd\n",
    "\n",
    "df = pd.read_csv('Whole_dataset1.txt')\n",
    "\n",
    "df = df.sort_values(by='Date')\n",
    "\n",
    "import gc; gc.collect()"
   ]
  },
  {
   "cell_type": "markdown",
   "metadata": {},
   "source": [
    "## Creating a new feature 'timestamp'"
   ]
  },
  {
   "cell_type": "code",
   "execution_count": 2,
   "metadata": {
    "collapsed": true
   },
   "outputs": [],
   "source": [
    "date = df.Date.tolist()\n",
    "timestamp = [int(''.join(i.split('-'))) for i in date]\n",
    "df['timestamp'] = timestamp; del timestamp\n",
    "del date"
   ]
  },
  {
   "cell_type": "markdown",
   "metadata": {},
   "source": [
    "## Doing joins"
   ]
  },
  {
   "cell_type": "code",
   "execution_count": 3,
   "metadata": {
    "collapsed": true
   },
   "outputs": [],
   "source": [
    "df = df.drop(axis=1,labels=['Date'])\n",
    "\n",
    "ddf = pd.concat([pd.read_pickle('info_1.pkl'),\n",
    "          pd.read_pickle('info_2.pkl'),\n",
    "          pd.read_pickle('info_3.pkl')])\n",
    "\n",
    "df = df.join(ddf.set_index('MovieID'),on='MovieID')\n",
    "del ddf\n",
    "\n",
    "ddf = pd.concat([pd.read_pickle('movie_info1.pkl'),\n",
    "          pd.read_pickle('movie_info2.pkl'),\n",
    "          pd.read_pickle('movie_info3.pkl'),\n",
    "                pd.read_pickle('movie_info4.pkl'),\n",
    "                pd.read_pickle('movie_info5.pkl')])\n",
    "\n",
    "df = df.join(ddf.set_index('CustomerID'),on='CustomerID')\n",
    "del ddf\n",
    "\n",
    "ddf = pd.read_pickle('modified_movie_title_year.pkl')\n",
    "\n",
    "df = df.join(ddf.set_index('MovieID'),on='MovieID')\n",
    "del ddf\n",
    "\n",
    "#df = df.drop(axis=1, labels=['MovieID','CustomerID'])"
   ]
  },
  {
   "cell_type": "code",
   "execution_count": null,
   "metadata": {
    "collapsed": true
   },
   "outputs": [],
   "source": [
    "from sklearn.metrics import mean_squared_error\n",
    "import math\n",
    "rmse = []"
   ]
  },
  {
   "cell_type": "markdown",
   "metadata": {},
   "source": [
    "### Logistic regression with simple time features"
   ]
  },
  {
   "cell_type": "code",
   "execution_count": null,
   "metadata": {
    "collapsed": true
   },
   "outputs": [],
   "source": [
    "'''Printing a sample from the traindata to see the features that have been used'''\n",
    "df.head(3)"
   ]
  },
  {
   "cell_type": "code",
   "execution_count": null,
   "metadata": {
    "collapsed": true
   },
   "outputs": [],
   "source": [
    "from sklearn.linear_model import LinearRegression\n",
    "reg = LinearRegression(n_jobs=-1,normalize=True)\n",
    "l = int(df.shape[0]*.7)\n",
    "reg.fit(df.drop(axis=1,labels=['Score'])[:l],df.Score[:l])\n",
    "hypothesis = reg.predict(df.drop(axis=1,labels=['Score'])[l:])"
   ]
  },
  {
   "cell_type": "code",
   "execution_count": null,
   "metadata": {
    "collapsed": true
   },
   "outputs": [],
   "source": [
    "e = math.sqrt(mean_squared_error(df.Score[l:],hypothesis))\n",
    "e"
   ]
  },
  {
   "cell_type": "code",
   "execution_count": null,
   "metadata": {
    "collapsed": true
   },
   "outputs": [],
   "source": [
    "rmse.append(e)"
   ]
  },
  {
   "cell_type": "markdown",
   "metadata": {},
   "source": [
    "### Using SGD Regressor"
   ]
  },
  {
   "cell_type": "code",
   "execution_count": null,
   "metadata": {
    "collapsed": true
   },
   "outputs": [],
   "source": [
    "from sklearn.linear_model import SGDRegressor\n",
    "reg = SGDRegressor()\n",
    "l = int(df.shape[0]*.7)\n",
    "reg.fit(df.drop(axis=1,labels=['Score'])[:l],df.Score[:l])\n",
    "hypothesis = reg.predict(df.drop(axis=1,labels=['Score'])[l:])"
   ]
  },
  {
   "cell_type": "code",
   "execution_count": null,
   "metadata": {
    "collapsed": true
   },
   "outputs": [],
   "source": [
    "e = math.sqrt(mean_squared_error(df.Score[l:],hypothesis))\n",
    "e"
   ]
  },
  {
   "cell_type": "code",
   "execution_count": null,
   "metadata": {
    "collapsed": true
   },
   "outputs": [],
   "source": [
    "print (hypothesis[:10])"
   ]
  },
  {
   "cell_type": "markdown",
   "metadata": {},
   "source": [
    "    Something is going wrong with SGD Regressor"
   ]
  },
  {
   "cell_type": "markdown",
   "metadata": {},
   "source": [
    "    There isnt't much increase in the performance. Let's consider only the data from 2004 and onwards"
   ]
  },
  {
   "cell_type": "code",
   "execution_count": null,
   "metadata": {
    "collapsed": true
   },
   "outputs": [],
   "source": [
    "df_2004 = df[df.timestamp > 20040000]\n",
    "df_2004.shape"
   ]
  },
  {
   "cell_type": "code",
   "execution_count": null,
   "metadata": {
    "collapsed": true
   },
   "outputs": [],
   "source": [
    "reg = LinearRegression(n_jobs=-1,normalize=True)\n",
    "l = int(df_2004.shape[0]*.7)\n",
    "reg.fit(df_2004.drop(axis=1,labels=['Score'])[:l],df_2004.Score[:l])\n",
    "hypothesis = reg.predict(df_2004.drop(axis=1,labels=['Score'])[l:])"
   ]
  },
  {
   "cell_type": "code",
   "execution_count": null,
   "metadata": {
    "collapsed": true
   },
   "outputs": [],
   "source": [
    "e = math.sqrt(mean_squared_error(df_2004.Score[l:],hypothesis))\n",
    "del df_2004\n",
    "e"
   ]
  },
  {
   "cell_type": "markdown",
   "metadata": {},
   "source": [
    "    Let's see the same on only 2005 data"
   ]
  },
  {
   "cell_type": "code",
   "execution_count": null,
   "metadata": {
    "collapsed": true
   },
   "outputs": [],
   "source": [
    "df_2005 = df[df.timestamp > 20050000]\n",
    "df_2005.shape"
   ]
  },
  {
   "cell_type": "code",
   "execution_count": null,
   "metadata": {
    "collapsed": true
   },
   "outputs": [],
   "source": [
    "reg = LinearRegression(n_jobs=-1,normalize=True)\n",
    "l = int(df_2005.shape[0]*.7)\n",
    "reg.fit(df_2005.drop(axis=1,labels=['Score'])[:l],df_2005.Score[:l])\n",
    "hypothesis = reg.predict(df_2005.drop(axis=1,labels=['Score'])[l:])"
   ]
  },
  {
   "cell_type": "code",
   "execution_count": null,
   "metadata": {
    "collapsed": true
   },
   "outputs": [],
   "source": [
    "e = math.sqrt(mean_squared_error(df_2005.Score[l:],hypothesis))\n",
    "del df_2005\n",
    "e"
   ]
  },
  {
   "cell_type": "code",
   "execution_count": null,
   "metadata": {
    "collapsed": true
   },
   "outputs": [],
   "source": [
    "del df"
   ]
  },
  {
   "cell_type": "markdown",
   "metadata": {},
   "source": [
    "# Including vectors from MF "
   ]
  },
  {
   "cell_type": "code",
   "execution_count": 4,
   "metadata": {
    "collapsed": true
   },
   "outputs": [],
   "source": [
    "import pickle\n",
    "with open('Matrix10_UM.pkl','rb') as fp:\n",
    "    user_mat, mov_mat = pickle.load(fp)\n",
    "fp.close()\n",
    "user_mat.shape, mov_mat.shape"
   ]
  },
  {
   "cell_type": "code",
   "execution_count": 5,
   "metadata": {
    "collapsed": true
   },
   "outputs": [],
   "source": [
    "cus = sorted(list(set(df['CustomerID'])))\n",
    "cus = pd.DataFrame(data = cus)\n",
    "user_mat = pd.DataFrame(data = user_mat,\\ \n",
    "columns=['U1','U2','U3','U4','U5','U6','U7','U8','U9','U10'])\n",
    "user_mat['CustomerID'] = cus\n",
    "del cus\n",
    "user_mat.head(2)"
   ]
  },
  {
   "cell_type": "code",
   "execution_count": 7,
   "metadata": {
    "collapsed": true
   },
   "outputs": [],
   "source": [
    "mov_mat = mov_mat.T\n",
    "mov_mat = pd.DataFrame(data = mov_mat,\\\n",
    "columns=['M1','M2','M3','M4','M5','M6','M7','M8','M9','M10'])\n",
    "mov = list(range(1,4500))\n",
    "mov_mat['MovieID'] = mov\n",
    "del mov\n",
    "mov_mat.head(2)"
   ]
  },
  {
   "cell_type": "markdown",
   "metadata": {},
   "source": []
  },
  {
   "cell_type": "markdown",
   "metadata": {},
   "source": [
    "### Table joins"
   ]
  },
  {
   "cell_type": "code",
   "execution_count": 9,
   "metadata": {
    "collapsed": true
   },
   "outputs": [],
   "source": [
    "df = df.join(user_mat.set_index('CustomerID'),on='CustomerID')\n",
    "del user_mat\n",
    "df = df.join(mov_mat.set_index('MovieID'),on='MovieID')\n",
    "del mov_mat\n",
    "Y = df.Score.tolist()\n",
    "df = df.drop(axis=1,labels=['Score','CustomerID','MovieID'])\n",
    "df.head(2)"
   ]
  },
  {
   "cell_type": "code",
   "execution_count": null,
   "metadata": {
    "collapsed": true
   },
   "outputs": [],
   "source": [
    "l = int(df.shape[0]*.7)\n",
    "ts_df = df[l:]; df = df[:l] \n",
    "ts_Y = Y[l:]; Y = Y[:l]"
   ]
  },
  {
   "cell_type": "code",
   "execution_count": 3,
   "metadata": {},
   "outputs": [
    {
     "data": {
      "text/plain": [
       "208"
      ]
     },
     "execution_count": 3,
     "metadata": {},
     "output_type": "execute_result"
    }
   ],
   "source": [
    "import gc\n",
    "gc.collect()"
   ]
  },
  {
   "cell_type": "markdown",
   "metadata": {
    "collapsed": true
   },
   "source": [
    "## Linear Regression"
   ]
  },
  {
   "cell_type": "code",
   "execution_count": null,
   "metadata": {
    "collapsed": true
   },
   "outputs": [],
   "source": [
    "from sklearn.linear_model import LinearRegression\n",
    "reg = LinearRegression(n_jobs=-1,normalize=True)\n",
    "reg.fit(df,Y)\n",
    "hypothesis = reg.predict(ts_df)"
   ]
  },
  {
   "cell_type": "code",
   "execution_count": 6,
   "metadata": {},
   "outputs": [
    {
     "ename": "NameError",
     "evalue": "name 'ts_Y' is not defined",
     "output_type": "error",
     "traceback": [
      "\u001b[0;31m---------------------------------------------------------------------------\u001b[0m",
      "\u001b[0;31mNameError\u001b[0m                                 Traceback (most recent call last)",
      "\u001b[0;32m<ipython-input-6-fd60f97c26fc>\u001b[0m in \u001b[0;36m<module>\u001b[0;34m()\u001b[0m\n\u001b[1;32m      1\u001b[0m \u001b[0;32mfrom\u001b[0m \u001b[0msklearn\u001b[0m\u001b[0;34m.\u001b[0m\u001b[0mmetrics\u001b[0m \u001b[0;32mimport\u001b[0m \u001b[0mmean_squared_error\u001b[0m\u001b[0;34m\u001b[0m\u001b[0m\n\u001b[1;32m      2\u001b[0m \u001b[0;32mimport\u001b[0m \u001b[0mmath\u001b[0m\u001b[0;34m\u001b[0m\u001b[0m\n\u001b[0;32m----> 3\u001b[0;31m \u001b[0mm\u001b[0m \u001b[0;34m=\u001b[0m \u001b[0mmath\u001b[0m\u001b[0;34m.\u001b[0m\u001b[0msqrt\u001b[0m\u001b[0;34m(\u001b[0m\u001b[0mmean_squared_error\u001b[0m\u001b[0;34m(\u001b[0m\u001b[0mts_Y\u001b[0m\u001b[0;34m,\u001b[0m\u001b[0mhypothesis\u001b[0m\u001b[0;34m)\u001b[0m\u001b[0;34m)\u001b[0m\u001b[0;34m\u001b[0m\u001b[0m\n\u001b[0m\u001b[1;32m      4\u001b[0m \u001b[0mm\u001b[0m\u001b[0;34m\u001b[0m\u001b[0m\n",
      "\u001b[0;31mNameError\u001b[0m: name 'ts_Y' is not defined"
     ]
    }
   ],
   "source": [
    "from sklearn.metrics import mean_squared_error\n",
    "import math\n",
    "m = math.sqrt(mean_squared_error(ts_Y,hypothesis))\n",
    "m"
   ]
  },
  {
   "cell_type": "code",
   "execution_count": null,
   "metadata": {
    "collapsed": true
   },
   "outputs": [],
   "source": []
  },
  {
   "cell_type": "code",
   "execution_count": null,
   "metadata": {
    "collapsed": true
   },
   "outputs": [],
   "source": []
  }
 ],
 "metadata": {
  "kernelspec": {
   "display_name": "Python 3",
   "language": "python",
   "name": "python3"
  },
  "language_info": {
   "codemirror_mode": {
    "name": "ipython",
    "version": 3
   },
   "file_extension": ".py",
   "mimetype": "text/x-python",
   "name": "python",
   "nbconvert_exporter": "python",
   "pygments_lexer": "ipython3",
   "version": "3.6.1"
  }
 },
 "nbformat": 4,
 "nbformat_minor": 2
}
