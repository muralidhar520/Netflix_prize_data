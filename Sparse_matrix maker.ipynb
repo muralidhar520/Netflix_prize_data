{
 "cells": [
  {
   "cell_type": "code",
   "execution_count": 1,
   "metadata": {
    "collapsed": true
   },
   "outputs": [],
   "source": [
    "import pandas as pd"
   ]
  },
  {
   "cell_type": "code",
   "execution_count": 2,
   "metadata": {},
   "outputs": [],
   "source": [
    "df = pd.read_csv('Whole_dataset1.txt')"
   ]
  },
  {
   "cell_type": "code",
   "execution_count": 3,
   "metadata": {
    "collapsed": true
   },
   "outputs": [],
   "source": [
    "df = df.sort_values(by='CustomerID')"
   ]
  },
  {
   "cell_type": "code",
   "execution_count": 4,
   "metadata": {
    "collapsed": true
   },
   "outputs": [],
   "source": [
    "cust_id = df.CustomerID.tolist()"
   ]
  },
  {
   "cell_type": "code",
   "execution_count": 5,
   "metadata": {
    "scrolled": true
   },
   "outputs": [
    {
     "data": {
      "text/plain": [
       "153"
      ]
     },
     "execution_count": 5,
     "metadata": {},
     "output_type": "execute_result"
    }
   ],
   "source": [
    "cust_id.count(6)"
   ]
  },
  {
   "cell_type": "code",
   "execution_count": 6,
   "metadata": {
    "collapsed": true
   },
   "outputs": [],
   "source": [
    "flag = cust_id[0]; count=0\n",
    "for i in range(len(cust_id)):\n",
    "    if(flag==cust_id[i]):\n",
    "        cust_id[i]=count\n",
    "    else:\n",
    "        flag = cust_id[i]\n",
    "        count+=1\n",
    "        cust_id[i]=count"
   ]
  },
  {
   "cell_type": "code",
   "execution_count": 7,
   "metadata": {},
   "outputs": [
    {
     "name": "stderr",
     "output_type": "stream",
     "text": [
      "IOPub data rate exceeded.\n",
      "The notebook server will temporarily stop sending output\n",
      "to the client in order to avoid crashing it.\n",
      "To change this limit, set the config variable\n",
      "`--NotebookApp.iopub_data_rate_limit`.\n"
     ]
    }
   ],
   "source": [
    "print(cust_id)"
   ]
  },
  {
   "cell_type": "code",
   "execution_count": 8,
   "metadata": {
    "collapsed": true
   },
   "outputs": [],
   "source": [
    "df['CustomerID'] = cust_id"
   ]
  },
  {
   "cell_type": "code",
   "execution_count": 9,
   "metadata": {},
   "outputs": [
    {
     "data": {
      "text/plain": [
       "(          CustomerID  Score        Date  MovieID\n",
       " 881625             0      3  2004-09-22      197\n",
       " 1438379            0      3  2005-04-20      299\n",
       " 2547216            0      3  2005-11-25      468\n",
       " 17387129           0      4  2005-03-23     3333\n",
       " 1368432            0      4  2004-09-27      295\n",
       " 19051164           0      4  2004-09-27     3624\n",
       " 9352578            0      2  2005-11-25     1843\n",
       " 3182810            0      3  2005-01-20      580\n",
       " 9914136            0      4  2005-12-04     1918\n",
       " 20944746           0      4  2004-09-15     3936,\n",
       "           CustomerID  Score        Date  MovieID\n",
       " 3688692       470757      2  2002-05-16      708\n",
       " 22417075      470757      3  2002-10-15     4260\n",
       " 22755810      470757      5  2002-05-16     4306\n",
       " 7514810       470757      3  2002-11-22     1509\n",
       " 21485806      470757      3  2004-05-17     4043\n",
       " 13213316      470757      3  2002-05-31     2499\n",
       " 21583989      470757      4  2003-02-28     4056\n",
       " 14253849      470757      5  2005-10-18     2755\n",
       " 18979153      470757      5  2005-10-10     3624\n",
       " 17903648      470757      4  2004-01-27     3427)"
      ]
     },
     "execution_count": 9,
     "metadata": {},
     "output_type": "execute_result"
    }
   ],
   "source": [
    "df.head(10),df.tail(10)"
   ]
  },
  {
   "cell_type": "code",
   "execution_count": 10,
   "metadata": {
    "collapsed": true
   },
   "outputs": [],
   "source": [
    "df = df.sort_values(by='Date')"
   ]
  },
  {
   "cell_type": "code",
   "execution_count": 11,
   "metadata": {},
   "outputs": [
    {
     "data": {
      "text/html": [
       "<div>\n",
       "<style>\n",
       "    .dataframe thead tr:only-child th {\n",
       "        text-align: right;\n",
       "    }\n",
       "\n",
       "    .dataframe thead th {\n",
       "        text-align: left;\n",
       "    }\n",
       "\n",
       "    .dataframe tbody tr th {\n",
       "        vertical-align: top;\n",
       "    }\n",
       "</style>\n",
       "<table border=\"1\" class=\"dataframe\">\n",
       "  <thead>\n",
       "    <tr style=\"text-align: right;\">\n",
       "      <th></th>\n",
       "      <th>CustomerID</th>\n",
       "      <th>Score</th>\n",
       "      <th>Date</th>\n",
       "      <th>MovieID</th>\n",
       "    </tr>\n",
       "  </thead>\n",
       "  <tbody>\n",
       "    <tr>\n",
       "      <th>14892677</th>\n",
       "      <td>91061</td>\n",
       "      <td>3</td>\n",
       "      <td>1999-11-11</td>\n",
       "      <td>2866</td>\n",
       "    </tr>\n",
       "    <tr>\n",
       "      <th>19585852</th>\n",
       "      <td>91061</td>\n",
       "      <td>4</td>\n",
       "      <td>1999-11-11</td>\n",
       "      <td>3730</td>\n",
       "    </tr>\n",
       "    <tr>\n",
       "      <th>6901473</th>\n",
       "      <td>91061</td>\n",
       "      <td>5</td>\n",
       "      <td>1999-11-11</td>\n",
       "      <td>1367</td>\n",
       "    </tr>\n",
       "    <tr>\n",
       "      <th>20393918</th>\n",
       "      <td>91061</td>\n",
       "      <td>2</td>\n",
       "      <td>1999-11-11</td>\n",
       "      <td>3870</td>\n",
       "    </tr>\n",
       "    <tr>\n",
       "      <th>9056171</th>\n",
       "      <td>91061</td>\n",
       "      <td>5</td>\n",
       "      <td>1999-11-11</td>\n",
       "      <td>1798</td>\n",
       "    </tr>\n",
       "    <tr>\n",
       "      <th>15344539</th>\n",
       "      <td>91061</td>\n",
       "      <td>3</td>\n",
       "      <td>1999-12-06</td>\n",
       "      <td>2948</td>\n",
       "    </tr>\n",
       "    <tr>\n",
       "      <th>13150839</th>\n",
       "      <td>91061</td>\n",
       "      <td>3</td>\n",
       "      <td>1999-12-06</td>\n",
       "      <td>2478</td>\n",
       "    </tr>\n",
       "    <tr>\n",
       "      <th>17853578</th>\n",
       "      <td>91061</td>\n",
       "      <td>3</td>\n",
       "      <td>1999-12-06</td>\n",
       "      <td>3421</td>\n",
       "    </tr>\n",
       "    <tr>\n",
       "      <th>14344265</th>\n",
       "      <td>21742</td>\n",
       "      <td>3</td>\n",
       "      <td>1999-12-08</td>\n",
       "      <td>2780</td>\n",
       "    </tr>\n",
       "    <tr>\n",
       "      <th>22132853</th>\n",
       "      <td>21742</td>\n",
       "      <td>3</td>\n",
       "      <td>1999-12-08</td>\n",
       "      <td>4171</td>\n",
       "    </tr>\n",
       "  </tbody>\n",
       "</table>\n",
       "</div>"
      ],
      "text/plain": [
       "          CustomerID  Score        Date  MovieID\n",
       "14892677       91061      3  1999-11-11     2866\n",
       "19585852       91061      4  1999-11-11     3730\n",
       "6901473        91061      5  1999-11-11     1367\n",
       "20393918       91061      2  1999-11-11     3870\n",
       "9056171        91061      5  1999-11-11     1798\n",
       "15344539       91061      3  1999-12-06     2948\n",
       "13150839       91061      3  1999-12-06     2478\n",
       "17853578       91061      3  1999-12-06     3421\n",
       "14344265       21742      3  1999-12-08     2780\n",
       "22132853       21742      3  1999-12-08     4171"
      ]
     },
     "execution_count": 11,
     "metadata": {},
     "output_type": "execute_result"
    }
   ],
   "source": [
    "df.head(10)"
   ]
  },
  {
   "cell_type": "code",
   "execution_count": 12,
   "metadata": {
    "collapsed": true
   },
   "outputs": [],
   "source": [
    "leng = df.shape[0]\n",
    "leng = 0.7*leng\n",
    "leng = int(leng)\n",
    "test_df = df[leng:]"
   ]
  },
  {
   "cell_type": "code",
   "execution_count": 13,
   "metadata": {},
   "outputs": [],
   "source": [
    "#test_df.head(10),test_df.tail(10)"
   ]
  },
  {
   "cell_type": "code",
   "execution_count": 14,
   "metadata": {
    "collapsed": true
   },
   "outputs": [],
   "source": [
    "a = df.Score.tolist()"
   ]
  },
  {
   "cell_type": "code",
   "execution_count": 15,
   "metadata": {
    "collapsed": true
   },
   "outputs": [],
   "source": [
    "for i in range(leng,len(a)):\n",
    "    a[i]=0.00001"
   ]
  },
  {
   "cell_type": "code",
   "execution_count": 16,
   "metadata": {
    "collapsed": true
   },
   "outputs": [],
   "source": [
    "cust, mov = len(set(df.CustomerID)) , len(set(df.MovieID))\n",
    "row, col = cust, mov\n",
    "\n",
    "import numpy as np\n",
    "from scipy.sparse import csr_matrix\n",
    "\n",
    "r = np.array(df.CustomerID);\n",
    "c = np.array(df.MovieID);\n",
    "for i in range(c.shape[0]):\n",
    "    c[i] = c[i]-1\n",
    "data = np.array(a)\n",
    "\n",
    "Ratings = csr_matrix((data, (r, c)),shape=(row,col))\n",
    "\n",
    "import pickle\n",
    "with open('sparse_matrix.txt','wb') as fp:\n",
    "    pickle.dump(Ratings, fp)\n",
    "fp.close()"
   ]
  },
  {
   "cell_type": "code",
   "execution_count": null,
   "metadata": {
    "collapsed": true
   },
   "outputs": [],
   "source": []
  },
  {
   "cell_type": "code",
   "execution_count": 17,
   "metadata": {
    "scrolled": true
   },
   "outputs": [
    {
     "data": {
      "text/plain": [
       "(470758, 4499)"
      ]
     },
     "execution_count": 17,
     "metadata": {},
     "output_type": "execute_result"
    }
   ],
   "source": [
    "Ratings.shape"
   ]
  },
  {
   "cell_type": "code",
   "execution_count": 19,
   "metadata": {},
   "outputs": [
    {
     "data": {
      "text/plain": [
       "470758"
      ]
     },
     "execution_count": 19,
     "metadata": {},
     "output_type": "execute_result"
    }
   ],
   "source": [
    "len(set(df.CustomerID))"
   ]
  },
  {
   "cell_type": "code",
   "execution_count": null,
   "metadata": {
    "collapsed": true
   },
   "outputs": [],
   "source": []
  }
 ],
 "metadata": {
  "kernelspec": {
   "display_name": "Python 3",
   "language": "python",
   "name": "python3"
  },
  "language_info": {
   "codemirror_mode": {
    "name": "ipython",
    "version": 3
   },
   "file_extension": ".py",
   "mimetype": "text/x-python",
   "name": "python",
   "nbconvert_exporter": "python",
   "pygments_lexer": "ipython3",
   "version": "3.6.1"
  }
 },
 "nbformat": 4,
 "nbformat_minor": 2
}
