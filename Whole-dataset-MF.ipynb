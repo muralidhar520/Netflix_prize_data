{
 "cells": [
  {
   "cell_type": "code",
   "execution_count": 1,
   "metadata": {},
   "outputs": [],
   "source": [
    "import pandas as pd; import numpy as np\n",
    "df = pd.concat([pd.read_csv('Whole_dataset1.txt'),pd.read_csv('Whole_dataset2.txt')\\\n",
    ",pd.read_csv('Whole_dataset3.txt'),pd.read_csv('Whole_dataset4.txt')])\n",
    "df = df.sort_values(by='CustomerID')\n",
    "cust_id = np.array(df.CustomerID)\n",
    "flag = cust_id[0]; count=0\n",
    "for i in range(cust_id.shape[0]):\n",
    "    if(flag==cust_id[i]):\n",
    "        cust_id[i]=count\n",
    "    else:\n",
    "        flag = cust_id[i]\n",
    "        count+=1\n",
    "        cust_id[i]=count\n",
    "df['CustomerID'] = cust_id; del cust_id\n",
    "df = df.sort_values(by='MovieID')\n",
    "mov_id = np.array(df.MovieID)\n",
    "flag = mov_id[0]; count=0\n",
    "for i in range(mov_id.shape[0]):\n",
    "    if(flag==mov_id[i]):\n",
    "        mov_id[i]=count\n",
    "    else:\n",
    "        flag = mov_id[i]\n",
    "        count+=1\n",
    "        mov_id[i]=count\n",
    "df['MovieID'] = mov_id; del mov_id\n",
    "l = int(0.7*df.shape[0])\n",
    "df = df.sort_values(by='Date')\n",
    "df = df[l:]\n",
    "mov_id = np.array(df.MovieID)\n",
    "cust_id = np.array(df.CustomerID)\n",
    "score = np.array(df.Score)\n",
    "ts_data = {}\n",
    "for i in range(score.shape[0]):\n",
    "    ts_data[(cust_id[i],mov_id[i])] = score[i]"
   ]
  },
  {
   "cell_type": "code",
   "execution_count": 2,
   "metadata": {
    "collapsed": true
   },
   "outputs": [],
   "source": [
    "del df, mov_id, cust_id, score"
   ]
  },
  {
   "cell_type": "code",
   "execution_count": 3,
   "metadata": {},
   "outputs": [
    {
     "data": {
      "text/plain": [
       "7"
      ]
     },
     "execution_count": 3,
     "metadata": {},
     "output_type": "execute_result"
    }
   ],
   "source": [
    "import gc; gc.collect()"
   ]
  },
  {
   "cell_type": "code",
   "execution_count": 4,
   "metadata": {},
   "outputs": [],
   "source": [
    "import pickle\n",
    "with open('Whole-data-sparse-matrix.pkl','rb') as fp:\n",
    "    SPM = pickle.load(fp)\n",
    "fp.close()"
   ]
  },
  {
   "cell_type": "code",
   "execution_count": 5,
   "metadata": {},
   "outputs": [
    {
     "data": {
      "text/plain": [
       "((480189, 100), (100, 17770))"
      ]
     },
     "execution_count": 5,
     "metadata": {},
     "output_type": "execute_result"
    }
   ],
   "source": [
    "from sklearn.decomposition import NMF\n",
    "model = NMF(n_components = 100, init='random')\n",
    "U = model.fit_transform(SPM)\n",
    "M = model.components_\n",
    "U.shape, M.shape"
   ]
  },
  {
   "cell_type": "code",
   "execution_count": 6,
   "metadata": {},
   "outputs": [
    {
     "data": {
      "text/plain": [
       "3.6479461566957188"
      ]
     },
     "execution_count": 6,
     "metadata": {},
     "output_type": "execute_result"
    }
   ],
   "source": [
    "import math\n",
    "import numpy as np\n",
    "e = 0\n",
    "for i in ts_data.keys():\n",
    "    row,col = i\n",
    "    R = ts_data[(row,col)]\n",
    "    R_h = np.dot(U[row,:],M[:,col])\n",
    "    #print (R,R_h)\n",
    "    e = e + math.pow((R-R_h),2)\n",
    "math.sqrt(e/len(ts_data.keys()))"
   ]
  },
  {
   "cell_type": "code",
   "execution_count": null,
   "metadata": {
    "collapsed": true
   },
   "outputs": [],
   "source": []
  }
 ],
 "metadata": {
  "kernelspec": {
   "display_name": "Python 3",
   "language": "python",
   "name": "python3"
  },
  "language_info": {
   "codemirror_mode": {
    "name": "ipython",
    "version": 3
   },
   "file_extension": ".py",
   "mimetype": "text/x-python",
   "name": "python",
   "nbconvert_exporter": "python",
   "pygments_lexer": "ipython3",
   "version": "3.6.1"
  }
 },
 "nbformat": 4,
 "nbformat_minor": 2
}
