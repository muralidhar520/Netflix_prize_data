{
 "cells": [
  {
   "cell_type": "code",
   "execution_count": 1,
   "metadata": {},
   "outputs": [
    {
     "data": {
      "text/plain": [
       "(16837634, 4)"
      ]
     },
     "execution_count": 1,
     "metadata": {},
     "output_type": "execute_result"
    }
   ],
   "source": [
    "import pickle\n",
    "with open('data/train_data.pkl','rb') as fp:\n",
    "    df = pickle.load(fp)\n",
    "df.shape"
   ]
  },
  {
   "cell_type": "code",
   "execution_count": 6,
   "metadata": {},
   "outputs": [
    {
     "data": {
      "text/plain": [
       "<470758x4499 sparse matrix of type '<class 'numpy.int64'>'\n",
       "\twith 16837634 stored elements in Compressed Sparse Row format>"
      ]
     },
     "execution_count": 6,
     "metadata": {},
     "output_type": "execute_result"
    }
   ],
   "source": [
    "import scipy as np\n",
    "from scipy.sparse import csr_matrix\n",
    "CID = np.array(df.CustomerID)\n",
    "MID = np.array(df.MovieID)\n",
    "Score = np.array(df.Score)\n",
    "SPM = csr_matrix((Score,(CID,MID)),shape=(CID.max()+1,MID.max()+1))\n",
    "SPM"
   ]
  },
  {
   "cell_type": "code",
   "execution_count": 10,
   "metadata": {},
   "outputs": [],
   "source": [
    "import math as mt\n",
    "from sparsesvd import sparsesvd\n",
    "\n",
    "def computeSVD(urm, K):\n",
    "    U, s, Vt = sparsesvd(urm, K)\n",
    "\n",
    "    dim = (len(s), len(s))\n",
    "    S = np.zeros(dim, dtype=np.float32)\n",
    "    for i in range(0, len(s)):\n",
    "        S[i,i] = s[i]\n",
    "\n",
    "    #U = csr_matrix(np.transpose(U), dtype=np.float32)\n",
    "    #S = csr_matrix(S, dtype=np.float32)\n",
    "    #Vt = csr_matrix(Vt, dtype=np.float32)\n",
    "\n",
    "    return U, S, Vt"
   ]
  },
  {
   "cell_type": "code",
   "execution_count": null,
   "metadata": {},
   "outputs": [],
   "source": [
    "from datetime import datetime\n",
    "print (str(datetime.now())[11:])\n",
    "U, S, Vt = computeSVD(SPM.tocsc(),100)\n",
    "print (str(datetime.now())[11:])"
   ]
  }
 ],
 "metadata": {
  "kernelspec": {
   "display_name": "Python 3",
   "language": "python",
   "name": "python3"
  },
  "language_info": {
   "codemirror_mode": {
    "name": "ipython",
    "version": 3
   },
   "file_extension": ".py",
   "mimetype": "text/x-python",
   "name": "python",
   "nbconvert_exporter": "python",
   "pygments_lexer": "ipython3",
   "version": "3.6.1"
  }
 },
 "nbformat": 4,
 "nbformat_minor": 2
}
