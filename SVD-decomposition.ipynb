{
 "cells": [
  {
   "cell_type": "code",
   "execution_count": 6,
   "metadata": {
    "collapsed": true
   },
   "outputs": [],
   "source": [
    "tsize = 0.8\n",
    "K = 300"
   ]
  },
  {
   "cell_type": "code",
   "execution_count": 2,
   "metadata": {},
   "outputs": [],
   "source": [
    "import pandas as pd\n",
    "df = pd.read_csv('Whole_dataset1.txt')"
   ]
  },
  {
   "cell_type": "markdown",
   "metadata": {},
   "source": [
    "### Changing the time-format"
   ]
  },
  {
   "cell_type": "code",
   "execution_count": 3,
   "metadata": {
    "collapsed": true
   },
   "outputs": [],
   "source": [
    "import scipy as np\n",
    "Date = np.array(df.Date); time = np.empty(Date.shape[0])\n",
    "for i in range(Date.shape[0]):\n",
    "    time[i] = int(''.join(Date[i].split('-')))\n",
    "del Date\n",
    "df['Date'] = time; del time"
   ]
  },
  {
   "cell_type": "markdown",
   "metadata": {},
   "source": [
    "### Mapping to maintain continuity"
   ]
  },
  {
   "cell_type": "code",
   "execution_count": 4,
   "metadata": {
    "collapsed": true
   },
   "outputs": [],
   "source": [
    "df = df.sort_values(by='CustomerID')\n",
    "import gc; gc.collect()\n",
    "UID = np.array(df.CustomerID)\n",
    "count = 0; flag=UID[0]\n",
    "for i in range(UID.shape[0]):\n",
    "    if(flag==UID[i]):\n",
    "        UID[i]=count\n",
    "    else:\n",
    "        count += 1\n",
    "        flag=UID[i]\n",
    "        UID[i]=count\n",
    "df['CustomerID'] = UID; del UID\n",
    "df = df.sort_values(by='MovieID')\n",
    "MID = np.array(df.MovieID)\n",
    "count = 0; flag=MID[0]\n",
    "for i in range(MID.shape[0]):\n",
    "    if(flag==MID[i]):\n",
    "        MID[i]=count\n",
    "    else:\n",
    "        count += 1\n",
    "        flag=MID[i]\n",
    "        MID[i]=count\n",
    "df['MovieID'] = MID; del MID"
   ]
  },
  {
   "cell_type": "markdown",
   "metadata": {
    "collapsed": true
   },
   "source": [
    "    The data is mapped so that the sparse matrix can be made easily."
   ]
  },
  {
   "cell_type": "code",
   "execution_count": 12,
   "metadata": {},
   "outputs": [
    {
     "data": {
      "text/plain": [
       "(4498, 470757)"
      ]
     },
     "execution_count": 12,
     "metadata": {},
     "output_type": "execute_result"
    }
   ],
   "source": [
    "MID = np.array(df.MovieID)\n",
    "UID = np.array(df.CustomerID)\n",
    "Score = np.array(df.Score)\n",
    "df = df.sample(frac=1)\n",
    "#del df\n",
    "MID.max(), UID.max()"
   ]
  },
  {
   "cell_type": "code",
   "execution_count": 13,
   "metadata": {},
   "outputs": [
    {
     "data": {
      "text/plain": [
       "(array([0, 0, 0, 0, 0, 0, 0, 0, 0, 0]), array([4, 3, 3, 4, 4, 3, 3, 3, 5, 4]))"
      ]
     },
     "execution_count": 13,
     "metadata": {},
     "output_type": "execute_result"
    }
   ],
   "source": [
    "ts_data = np.copy(Score)\n",
    "l, = Score.shape\n",
    "for i in range(int(tsize*l),l):\n",
    "    Score[i]=0\n",
    "Score[-10:], ts_data[-10:]"
   ]
  },
  {
   "cell_type": "code",
   "execution_count": 14,
   "metadata": {},
   "outputs": [
    {
     "data": {
      "text/plain": [
       "<470758x4499 sparse matrix of type '<class 'numpy.float64'>'\n",
       "\twith 24053764 stored elements in COOrdinate format>"
      ]
     },
     "execution_count": 14,
     "metadata": {},
     "output_type": "execute_result"
    }
   ],
   "source": [
    "from scipy.sparse import coo_matrix\n",
    "SPM = coo_matrix((Score,(UID,MID)),shape=(UID.max()+1,MID.max()+1))\n",
    "SPM = SPM.asfptype()\n",
    "SPM"
   ]
  },
  {
   "cell_type": "code",
   "execution_count": null,
   "metadata": {},
   "outputs": [],
   "source": [
    "from scipy.sparse.linalg import svds\n",
    "U,sig,VT = svds(SPM,k=K)\n",
    "U.shape, sig.shape, VT.shape"
   ]
  },
  {
   "cell_type": "code",
   "execution_count": null,
   "metadata": {
    "collapsed": true,
    "scrolled": false
   },
   "outputs": [],
   "source": [
    "# test data\n",
    "sig = np.diag(sig)\n",
    "Ui = np.dot(U,sig)\n",
    "e=0; count = 0\n",
    "for i in range(int(tsize*l),l):\n",
    "    count += 1\n",
    "    r = UID[i]; c = MID[i]\n",
    "    R = ts_data[i]\n",
    "    Rh = np.dot(Ui[r,:],VT[:,c])\n",
    "    e += (R-Rh)**2\n",
    "e = e/count\n",
    "e**0.5"
   ]
  },
  {
   "cell_type": "code",
   "execution_count": null,
   "metadata": {
    "collapsed": true
   },
   "outputs": [],
   "source": [
    "# train data\n",
    "e=0; count = 0\n",
    "for i in range(int(tsize*l)):\n",
    "    count += 1\n",
    "    r = UID[i]; c = MID[i]\n",
    "    R = ts_data[i]\n",
    "    Rh = np.dot(Ui[r,:],VT[:,c])\n",
    "    e += (R-Rh)**2\n",
    "e = e/count\n",
    "e**0.5"
   ]
  }
 ],
 "metadata": {
  "kernelspec": {
   "display_name": "Python 3",
   "language": "python",
   "name": "python3"
  },
  "language_info": {
   "codemirror_mode": {
    "name": "ipython",
    "version": 3
   },
   "file_extension": ".py",
   "mimetype": "text/x-python",
   "name": "python",
   "nbconvert_exporter": "python",
   "pygments_lexer": "ipython3",
   "version": "3.6.1"
  }
 },
 "nbformat": 4,
 "nbformat_minor": 2
}
